{
 "cells": [
  {
   "cell_type": "code",
   "execution_count": 1,
   "metadata": {},
   "outputs": [],
   "source": [
    "import os\n",
    "import numpy as np\n",
    "import pandas as pd\n",
    "from sklearn.svm import SVC\n",
    "import matplotlib.pyplot as plt"
   ]
  },
  {
   "cell_type": "code",
   "execution_count": 2,
   "metadata": {},
   "outputs": [
    {
     "data": {
      "text/plain": [
       "array([[ -1.65955991,   1.53955693,  -2.82307933, ...,   8.70106536,\n",
       "         -6.09463357,   9.24038414],\n",
       "       [  4.40648987,   7.50777477,   3.07502945, ...,   7.03362853,\n",
       "        -11.85608594,  -8.68444187],\n",
       "       [ -9.9977125 ,   2.17130874,   1.33182816, ...,  -9.57910711,\n",
       "        -14.47502929,  -0.61673675],\n",
       "       ...,\n",
       "       [  6.57465703,  -8.53119667,  -9.47617961, ...,   4.38033001,\n",
       "          0.6548405 ,  -4.84251319],\n",
       "       [ -9.3800408 ,   1.59474094,   9.01655979, ...,  -3.27646889,\n",
       "          4.66771873,  12.56088856],\n",
       "       [  8.93456539,   4.67034037,   1.39835285, ...,   8.29215446,\n",
       "        -25.39555851,  -6.87223888]])"
      ]
     },
     "execution_count": 2,
     "metadata": {},
     "output_type": "execute_result"
    }
   ],
   "source": [
    "# generating X\n",
    "np.random.seed(1)\n",
    "X= np.vstack((np.random.uniform(-10,10, 2000),np.random.uniform(-10,10, 2000),np.random.uniform(-10,10, 2000),\n",
    "              np.random.normal(0,10, 2000),np.random.normal(0,10, 2000),np.random.normal(0,10, 2000),np.random.normal(0,10, 2000)))\n",
    "X = np.transpose(X)\n",
    "X"
   ]
  },
  {
   "cell_type": "code",
   "execution_count": 3,
   "metadata": {},
   "outputs": [],
   "source": [
    "# generating p\n",
    "p = 1/(1 + np.exp(-(X[:,0] * np.sqrt(np.abs(X[:,3])+1) + np.sin(X[:,2]) - np.abs(X[:,1]) / np.sqrt(np.abs(X[:,4])+1) + 1.5 * np.abs(X[:,5]) + X[:,6])))"
   ]
  },
  {
   "cell_type": "code",
   "execution_count": 4,
   "metadata": {},
   "outputs": [],
   "source": [
    "# generating y\n",
    "np.random.seed(2)\n",
    "y = np.random.binomial(1,p,len(p))"
   ]
  },
  {
   "cell_type": "code",
   "execution_count": 5,
   "metadata": {},
   "outputs": [],
   "source": [
    "# split data into train and test\n",
    "X_tr = X[:1000,:]\n",
    "X_tst = X[1000:,:]\n",
    "y_tr = y[:1000]\n",
    "y_tst = y[1000:]"
   ]
  },
  {
   "cell_type": "code",
   "execution_count": 6,
   "metadata": {},
   "outputs": [],
   "source": [
    "# fitting SVM\n",
    "C = [0.1,0.5,1,5,10,30,50,70,90,150]\n",
    "err_rate = []\n",
    "y_pred_linear = []\n",
    "for c in range(len(C)):\n",
    "    svm_lin = SVC(C= C[c],kernel = 'linear')\n",
    "    svm_lin.fit(X_tr,y_tr)\n",
    "    y_pred = svm_lin.predict(X_tst)\n",
    "    y_pred_linear.append(y_pred)\n",
    "    err = np.sum(y_tst != y_pred) / len(y_tst)\n",
    "    err_rate.append(err)"
   ]
  },
  {
   "cell_type": "code",
   "execution_count": 7,
   "metadata": {},
   "outputs": [
    {
     "data": {
      "text/plain": [
       "Text(0.5, 1.0, 'Error rate of each C')"
      ]
     },
     "execution_count": 7,
     "metadata": {},
     "output_type": "execute_result"
    },
    {
     "data": {
      "image/png": "[encoded data removed]",
      "text/plain": [
       "<Figure size 432x288 with 1 Axes>"
      ]
     },
     "metadata": {
      "needs_background": "light"
     },
     "output_type": "display_data"
    }
   ],
   "source": [
    "# plotting\n",
    "plt.plot(list(map(str,C)),err_rate)\n",
    "plt.title(\"Error rate of each C\")"
   ]
  },
  {
   "cell_type": "code",
   "execution_count": 9,
   "metadata": {},
   "outputs": [
    {
     "name": "stdout",
     "output_type": "stream",
     "text": [
      "0.12 90\n"
     ]
    }
   ],
   "source": [
    "print(err_rate[np.argmin(err_rate)], C[np.argmin(err_rate)])"
   ]
  },
  {
   "cell_type": "code",
   "execution_count": 10,
   "metadata": {},
   "outputs": [],
   "source": [
    "# fitting non-linear SVM\n",
    "err_rate2 = []\n",
    "y_pred_rbf = []\n",
    "for c in range(len(C)):\n",
    "    svm_rbf = SVC(C= C[c],kernel = 'rbf')\n",
    "    svm_rbf.fit(X_tr,y_tr)\n",
    "    y_pred = svm_rbf.predict(X_tst)\n",
    "    y_pred_rbf.append(y_pred)\n",
    "    err = np.sum(y_tst != y_pred) / len(y_tst)\n",
    "    err_rate2.append(err)"
   ]
  },
  {
   "cell_type": "code",
   "execution_count": 11,
   "metadata": {},
   "outputs": [
    {
     "data": {
      "text/plain": [
       "Text(0.5, 1.0, 'Error rate of each C')"
      ]
     },
     "execution_count": 11,
     "metadata": {},
     "output_type": "execute_result"
    },
    {
     "data": {
      "image/png": "[encoded data removed]",
      "text/plain": [
       "<Figure size 432x288 with 1 Axes>"
      ]
     },
     "metadata": {
      "needs_background": "light"
     },
     "output_type": "display_data"
    }
   ],
   "source": [
    "# plotting\n",
    "plt.plot(list(map(str,C)),err_rate2)\n",
    "plt.title(\"Error rate of each C\")"
   ]
  },
  {
   "cell_type": "code",
   "execution_count": 12,
   "metadata": {},
   "outputs": [
    {
     "name": "stdout",
     "output_type": "stream",
     "text": [
      "0.066 5\n"
     ]
    }
   ],
   "source": [
    "print(err_rate2[np.argmin(err_rate2)],C[np.argmin(err_rate2)])"
   ]
  },
  {
   "cell_type": "code",
   "execution_count": 13,
   "metadata": {},
   "outputs": [],
   "source": [
    "result_linear = pd.DataFrame()\n",
    "result_linear['Actual Class'] = y_tst\n",
    "result_linear['Predicted Class'] = y_pred_linear[np.argmin(err_rate)]\n",
    "\n",
    "result_rbf = pd.DataFrame()\n",
    "result_rbf['Actual Class'] = y_tst\n",
    "result_rbf['Predicted Class'] = y_pred_rbf[np.argmin(err_rate2)]"
   ]
  },
  {
   "cell_type": "code",
   "execution_count": 14,
   "metadata": {},
   "outputs": [],
   "source": [
    "ytype = np.sort(np.unique(y))\n",
    "\n",
    "#confusion matrix of linear svm\n",
    "C = []\n",
    "for i in range(len(ytype)):\n",
    "    for j in range(len(ytype)):\n",
    "        C.append(((result_linear['Actual Class'] == ytype[i]) & (result_linear['Predicted Class'] == ytype[j])).sum())\n",
    "\n",
    "C_linear = pd.DataFrame(np.array(C).reshape(len(ytype),len(ytype)),\n",
    "                  index = ytype, columns = ytype)\n",
    "acc_linear = round(np.diag(C_linear).sum()/C_linear.sum().sum(),3)"
   ]
  },
  {
   "cell_type": "code",
   "execution_count": 15,
   "metadata": {},
   "outputs": [],
   "source": [
    "# confusion matrix of rbf svm\n",
    "C = []\n",
    "for i in range(len(ytype)):\n",
    "    for j in range(len(ytype)):\n",
    "        C.append(((result_rbf['Actual Class'] == ytype[i]) & (result_rbf['Predicted Class'] == ytype[j])).sum())\n",
    "\n",
    "C_rbf = pd.DataFrame(np.array(C).reshape(len(ytype),len(ytype)),\n",
    "                  index = ytype, columns = ytype)\n",
    "acc_rbf = round(np.diag(C_rbf).sum()/C_rbf.sum().sum(),3)"
   ]
  },
  {
   "cell_type": "code",
   "execution_count": 16,
   "metadata": {},
   "outputs": [
    {
     "name": "stdin",
     "output_type": "stream",
     "text": [
      "Enter the output file name to export [(ex) result.txt] :  result.txt\n"
     ]
    },
    {
     "name": "stdout",
     "output_type": "stream",
     "text": [
      "Linear Kernel SVM (C = 90)\n",
      "\n",
      "Confusion Matrix (SVM-linear) \n",
      "\n",
      "---------------------------------\n",
      "\n",
      "\t\tPredicted Class \n",
      "\n",
      "\n",
      "\n",
      "\t\t0\t1\n",
      "\n",
      "\n",
      "\n",
      "Actual \t0\t245\t57\n",
      "\n",
      "\n",
      "\n",
      "Class \t1\t63\t635\n",
      "\n",
      "\n",
      "\n",
      "\n",
      "\n",
      "Model Summary (SVM-linear) \n",
      "\n",
      "---------------------------------\n",
      "\n",
      "Overall accuracy = 0.88\n",
      "\n",
      "\n",
      "\n",
      "RBF Kernel SVM (C = 5)\n",
      "\n",
      "Confusion Matrix (SVM-rbf) \n",
      "\n",
      "---------------------------------\n",
      "\n",
      "\t\tPredicted Class \n",
      "\n",
      "\n",
      "\n",
      "\t\t0\t1\n",
      "\n",
      "\n",
      "\n",
      "Actual \t0\t266\t36\n",
      "\n",
      "\n",
      "\n",
      "Class \t1\t30\t668\n",
      "\n",
      "\n",
      "\n",
      "\n",
      "\n",
      "Model Summary (SVM-rbf) \n",
      "\n",
      "---------------------------------\n",
      "\n",
      "Overall accuracy = 0.934\n"
     ]
    }
   ],
   "source": [
    "out_name = input(\"Enter the output file name to export [(ex) result.txt] : \")\n",
    "\n",
    "C_linear.to_csv('temp2.txt', sep = '\\t')\n",
    "temp2 = []\n",
    "temp2.append('\\tPredicted Class \\n')\n",
    "r = open('temp2.txt','r')\n",
    "for line in r.readlines():\n",
    "    temp2.append(line)\n",
    "r.close()    \n",
    "for i in range(len(temp2)):\n",
    "    if i == 2:\n",
    "        temp2[i] = 'Actual \\t' + temp2[i]+ '\\n'\n",
    "    elif i == 3:\n",
    "        temp2[i] = 'Class \\t' + temp2[i]+ '\\n'\n",
    "    else:\n",
    "        temp2[i] = '\\t' + temp2[i]+ '\\n'\n",
    "\n",
    "C_rbf.to_csv('temp3.txt', sep = '\\t')        \n",
    "temp3 = []\n",
    "temp3.append('\\tPredicted Class \\n')\n",
    "r = open('temp3.txt','r')\n",
    "for line in r.readlines():\n",
    "    temp3.append(line)\n",
    "r.close()    \n",
    "for i in range(len(temp3)):\n",
    "    if i == 2:\n",
    "        temp3[i] = 'Actual \\t' + temp3[i]+ '\\n'\n",
    "    elif i == 3:\n",
    "        temp3[i] = 'Class \\t' + temp3[i]+ '\\n'\n",
    "    else:\n",
    "        temp3[i] = '\\t' + temp3[i]+ '\\n'\n",
    "\n",
    "\n",
    "\n",
    "f = open(out_name, 'w+')\n",
    "f.write(f'Linear Kernel SVM (C = 90)\\n')\n",
    "f.write('Confusion Matrix (SVM-linear) \\n')\n",
    "f.write('---------------------------------\\n')\n",
    "for line in temp2:\n",
    "    f.write(line)\n",
    "f.write('\\n')\n",
    "f.write('Model Summary (SVM-linear) \\n')\n",
    "f.write('---------------------------------\\n')\n",
    "f.write(f'Overall accuracy = {acc_linear}')\n",
    "f.write('\\n\\n')\n",
    "f.write('RBF Kernel SVM (C = 5)\\n')\n",
    "f.write('Confusion Matrix (SVM-rbf) \\n')\n",
    "f.write('---------------------------------\\n')\n",
    "for line in temp3:\n",
    "    f.write(line)\n",
    "f.write('\\n')\n",
    "f.write('Model Summary (SVM-rbf) \\n')\n",
    "f.write('---------------------------------\\n')\n",
    "f.write(f'Overall accuracy = {acc_rbf}')\n",
    "\n",
    "f.close()\n",
    "\n",
    "r = open(out_name,'r')\n",
    "for line in r.readlines():\n",
    "    print(line)\n",
    "r.close()\n",
    "os.remove('temp2.txt')        \n",
    "os.remove('temp3.txt')"
   ]
  }
 ],
 "metadata": {
  "kernelspec": {
   "display_name": "Python 3",
   "language": "python",
   "name": "python3"
  },
  "language_info": {
   "codemirror_mode": {
    "name": "ipython",
    "version": 3
   },
   "file_extension": ".py",
   "mimetype": "text/x-python",
   "name": "python",
   "nbconvert_exporter": "python",
   "pygments_lexer": "ipython3",
   "version": "3.8.8"
  }
 },
 "nbformat": 4,
 "nbformat_minor": 4
}
