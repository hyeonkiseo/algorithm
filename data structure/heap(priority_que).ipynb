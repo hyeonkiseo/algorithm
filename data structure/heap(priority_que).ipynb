{
 "cells": [
  {
   "cell_type": "markdown",
   "metadata": {},
   "source": [
    "### Heap (우선순위 큐)\n",
    "완전이진트리\n",
    "\n",
    "#### 종류 \n",
    "1. 최대힙 (Max heap) : 부모노드의 값은 항상 자식노드의 값보다 크거나 같음 -> 루트노드 : 트리의 최댓값\n",
    "2. 최소힙 (Min heap) : 부모노드의 값은 항상 자식노드의 값보다 작거나 같음 -> 루트노드 : 트리의 최솟값\n",
    "\n",
    "#### 특징 \n",
    "최대/최소를 기준으로 데이터를 찾는 연산을 빠르게 할 수 있음 $O(1)$\n",
    "삽입 : $O(logN)$\n",
    "1. 리프노드에 데이터 삽입\n",
    "2. 부모노드와 크기를 비교해서 힘의 조건 만족하는지 확인\n",
    "3. 만족하지 않으면 부모노드와 값을 바꿈\n",
    "   \n",
    "(루트노드)삭제 : $O(logN)$\n",
    "1. 마지막 노드를 루트노드로 가져옴\n",
    "2. 루트노드였던 데이터 삭제\n",
    "3. 루트노드가 힙의 조건 만족하는지 확인 후 만족할떄까지 자식노드와 자리 바꿈\n",
    "\n",
    "#### Heapify\n",
    "데이터의 삽입, 삭제 이후에도 힙의 속성을 유지하도록 재구조화하는 연산\n"
   ]
  },
  {
   "cell_type": "code",
   "execution_count": 6,
   "metadata": {},
   "outputs": [],
   "source": [
    "class Task:\n",
    "    def __init__(self, priority : int, task : str):\n",
    "        self.priority = priority\n",
    "        self.task = task\n",
    "\n",
    "class Node:\n",
    "    def __init__(self, data, left : Node, right : Node):\n",
    "        self.data = data\n",
    "        self.left = left\n",
    "        self.right = right\n"
   ]
  },
  {
   "cell_type": "code",
   "execution_count": 84,
   "metadata": {},
   "outputs": [],
   "source": [
    "class Mymaxheap:\n",
    "    def __init__(self,maxsize):\n",
    "        self.data = [None] * (maxsize+1)\n",
    "        self.size = 0\n",
    "\n",
    "    def find_parent(self,idx):\n",
    "        return int(idx/2)\n",
    "\n",
    "    def find_left_child(self,idx):\n",
    "        return idx * 2\n",
    "\n",
    "    def find_right_child(self,idx):\n",
    "        return 2*idx + 1\n",
    "    \n",
    "    def isLeaf(self,idx):\n",
    "        return idx > (self.size / 2) and idx <= self.size\n",
    "\n",
    "    def insert(self, task):\n",
    "        self.size += 1\n",
    "        self.data[self.size] = task \n",
    "        curr = self.size\n",
    "        while (self.data[self.find_parent(curr)] != None) and (self.data[curr] > self.data[self.find_parent(curr)]):\n",
    "            idx = self.find_parent(curr) # parent node idx\n",
    "            temp = self.data[idx] # parent node task\n",
    "            self.data[idx] = self.data[curr] # replace \n",
    "            self.data[curr] = temp\n",
    "            curr = idx\n",
    "\n",
    "\n",
    "        return None\n",
    "        \n",
    "    def pop(self):\n",
    "        if self.size == 0:\n",
    "            print('this heap is already empty')\n",
    "            return None\n",
    "\n",
    "        temp = self.data[1]\n",
    "        self.data[1] = self.data[self.size]\n",
    "        self.data[self.size] = None\n",
    "        self.size -= 1\n",
    "\n",
    "        if self.size == 0:\n",
    "            return temp\n",
    "\n",
    "        curr = 1\n",
    "        self.heapify(curr)\n",
    "        return temp\n",
    "\n",
    "    def heapify(self, idx):\n",
    "        if self.isLeaf(idx):\n",
    "            return None\n",
    "        curr = self.data[idx]\n",
    "        left = self.data[self.find_left_child(idx)]\n",
    "        right = self.data[self.find_right_child(idx)]\n",
    "        if left == None :\n",
    "            right_idx = self.find_right_child(idx)\n",
    "            temp = self.data[right_idx]\n",
    "            self.data[right_idx] = self.data[idx]\n",
    "            self.data[idx] = temp\n",
    "            self.heapify(right_idx)\n",
    "        elif right == None:\n",
    "            left_idx = self.find_left_child(idx)\n",
    "            temp = self.data[left_idx]\n",
    "            self.data[left_idx] = self.data[idx]\n",
    "            self.data[idx] = temp\n",
    "            self.heapify(left_idx)\n",
    "        \n",
    "        else:\n",
    "            if (curr < left) or (curr < right):\n",
    "                if left >= right :\n",
    "                    left_idx = self.find_left_child(idx)\n",
    "                    temp = self.data[left_idx]\n",
    "                    self.data[left_idx] = self.data[idx]\n",
    "                    self.data[idx] = temp\n",
    "                    self.heapify(left_idx)\n",
    "\n",
    "                else:\n",
    "                    right_idx = self.find_right_child(idx)\n",
    "                    temp = self.data[right_idx]\n",
    "                    self.data[right_idx] = self.data[idx]\n",
    "                    self.data[idx] = temp\n",
    "                    self.heapify(right_idx)\n"
   ]
  },
  {
   "cell_type": "code",
   "execution_count": 83,
   "metadata": {},
   "outputs": [
    {
     "data": {
      "text/plain": [
       "0"
      ]
     },
     "execution_count": 83,
     "metadata": {},
     "output_type": "execute_result"
    }
   ],
   "source": [
    "heap  = Mymaxheap(20)\n",
    "heap.insert(1)\n",
    "heap.insert(2)\n",
    "heap.insert(0)\n",
    "heap.insert(5)\n",
    "heap.pop()\n",
    "heap.pop()\n",
    "heap.pop()\n",
    "heap.pop()\n",
    "heap.size"
   ]
  }
 ],
 "metadata": {
  "interpreter": {
   "hash": "78ace7d3ee7689355f50f98c314a3eb08e68ca606d3dd2e83d26d97bfc698845"
  },
  "kernelspec": {
   "display_name": "Python 3.8.8 ('base')",
   "language": "python",
   "name": "python3"
  },
  "language_info": {
   "codemirror_mode": {
    "name": "ipython",
    "version": 3
   },
   "file_extension": ".py",
   "mimetype": "text/x-python",
   "name": "python",
   "nbconvert_exporter": "python",
   "pygments_lexer": "ipython3",
   "version": "3.8.8"
  },
  "orig_nbformat": 4
 },
 "nbformat": 4,
 "nbformat_minor": 2
}
