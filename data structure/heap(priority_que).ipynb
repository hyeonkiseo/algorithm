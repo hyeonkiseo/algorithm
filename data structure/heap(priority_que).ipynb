{
 "cells": [
  {
   "cell_type": "markdown",
   "metadata": {},
   "source": [
    "### Heap (우선수위 큐)\n"
   ]
  },
  {
   "cell_type": "code",
   "execution_count": 6,
   "metadata": {},
   "outputs": [],
   "source": [
    "class Task:\n",
    "    def __init__(self, priority : int, task : str):\n",
    "        self.priority = priority\n",
    "        self.task = task\n",
    "\n",
    "class Node:\n",
    "    def __init__(self, data, left : Node, right : Node):\n",
    "        self.data = data\n",
    "        self.left = left\n",
    "        self.right = right\n"
   ]
  },
  {
   "cell_type": "code",
   "execution_count": 84,
   "metadata": {},
   "outputs": [],
   "source": [
    "class Mymaxheap:\n",
    "    def __init__(self,maxsize):\n",
    "        self.data = [None] * (maxsize+1)\n",
    "        self.size = 0\n",
    "\n",
    "    def find_parent(self,idx):\n",
    "        return int(idx/2)\n",
    "\n",
    "    def find_left_child(self,idx):\n",
    "        return idx * 2\n",
    "\n",
    "    def find_right_child(self,idx):\n",
    "        return 2*idx + 1\n",
    "    \n",
    "    def isLeaf(self,idx):\n",
    "        return idx > (self.size / 2) and idx <= self.size\n",
    "\n",
    "    def insert(self, task):\n",
    "        self.size += 1\n",
    "        self.data[self.size] = task \n",
    "        curr = self.size\n",
    "        while (self.data[self.find_parent(curr)] != None) and (self.data[curr] > self.data[self.find_parent(curr)]):\n",
    "            idx = self.find_parent(curr) # parent node idx\n",
    "            temp = self.data[idx] # parent node task\n",
    "            self.data[idx] = self.data[curr] # replace \n",
    "            self.data[curr] = temp\n",
    "            curr = idx\n",
    "\n",
    "\n",
    "        return None\n",
    "        \n",
    "    def pop(self):\n",
    "        if self.size == 0:\n",
    "            print('this heap is already empty')\n",
    "            return None\n",
    "\n",
    "        temp = self.data[1]\n",
    "        self.data[1] = self.data[self.size]\n",
    "        self.data[self.size] = None\n",
    "        self.size -= 1\n",
    "\n",
    "        if self.size == 0:\n",
    "            return temp\n",
    "\n",
    "        curr = 1\n",
    "        self.heapify(curr)\n",
    "        return temp\n",
    "\n",
    "    def heapify(self, idx):\n",
    "        if self.isLeaf(idx):\n",
    "            return None\n",
    "        curr = self.data[idx]\n",
    "        left = self.data[self.find_left_child(idx)]\n",
    "        right = self.data[self.find_right_child(idx)]\n",
    "        if left == None :\n",
    "            right_idx = self.find_right_child(idx)\n",
    "            temp = self.data[right_idx]\n",
    "            self.data[right_idx] = self.data[idx]\n",
    "            self.data[idx] = temp\n",
    "            self.heapify(right_idx)\n",
    "        elif right == None:\n",
    "            left_idx = self.find_left_child(idx)\n",
    "            temp = self.data[left_idx]\n",
    "            self.data[left_idx] = self.data[idx]\n",
    "            self.data[idx] = temp\n",
    "            self.heapify(left_idx)\n",
    "        \n",
    "        else:\n",
    "            if (curr < left) or (curr < right):\n",
    "                if left >= right :\n",
    "                    left_idx = self.find_left_child(idx)\n",
    "                    temp = self.data[left_idx]\n",
    "                    self.data[left_idx] = self.data[idx]\n",
    "                    self.data[idx] = temp\n",
    "                    self.heapify(left_idx)\n",
    "\n",
    "                else:\n",
    "                    right_idx = self.find_right_child(idx)\n",
    "                    temp = self.data[right_idx]\n",
    "                    self.data[right_idx] = self.data[idx]\n",
    "                    self.data[idx] = temp\n",
    "                    self.heapify(right_idx)\n"
   ]
  },
  {
   "cell_type": "code",
   "execution_count": 83,
   "metadata": {},
   "outputs": [
    {
     "data": {
      "text/plain": [
       "0"
      ]
     },
     "execution_count": 83,
     "metadata": {},
     "output_type": "execute_result"
    }
   ],
   "source": [
    "heap  = Mymaxheap(20)\n",
    "heap.insert(1)\n",
    "heap.insert(2)\n",
    "heap.insert(0)\n",
    "heap.insert(5)\n",
    "heap.pop()\n",
    "heap.pop()\n",
    "heap.pop()\n",
    "heap.pop()\n",
    "heap.size"
   ]
  }
 ],
 "metadata": {
  "interpreter": {
   "hash": "78ace7d3ee7689355f50f98c314a3eb08e68ca606d3dd2e83d26d97bfc698845"
  },
  "kernelspec": {
   "display_name": "Python 3.8.8 ('base')",
   "language": "python",
   "name": "python3"
  },
  "language_info": {
   "codemirror_mode": {
    "name": "ipython",
    "version": 3
   },
   "file_extension": ".py",
   "mimetype": "text/x-python",
   "name": "python",
   "nbconvert_exporter": "python",
   "pygments_lexer": "ipython3",
   "version": "3.8.8"
  },
  "orig_nbformat": 4
 },
 "nbformat": 4,
 "nbformat_minor": 2
}
