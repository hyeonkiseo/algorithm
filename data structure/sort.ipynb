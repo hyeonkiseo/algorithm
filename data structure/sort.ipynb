{
 "cells": [
  {
   "cell_type": "code",
   "execution_count": 76,
   "metadata": {},
   "outputs": [],
   "source": [
    "class BinarySearch:\n",
    "    def search(self,array, target):\n",
    "        l = 0\n",
    "        r = len(array) -1\n",
    "\n",
    "        while l <= r :\n",
    "            m = int((l + r) /2)\n",
    "            \n",
    "            if array[m] == target:\n",
    "                return m\n",
    "            if array[m] < target:\n",
    "                l = m + 1\n",
    "            else:\n",
    "                r = m - 1\n",
    "        if array[m] > target:\n",
    "            return m\n",
    "        else:\n",
    "            return m+1\n"
   ]
  },
  {
   "cell_type": "code",
   "execution_count": 77,
   "metadata": {},
   "outputs": [
    {
     "data": {
      "text/plain": [
       "4"
      ]
     },
     "execution_count": 77,
     "metadata": {},
     "output_type": "execute_result"
    }
   ],
   "source": [
    "a = [0,1,2,3,5,6,7,8,9,10]\n",
    "search = BinarySearch()\n",
    "search.search(a,4)"
   ]
  },
  {
   "cell_type": "code",
   "execution_count": 48,
   "metadata": {},
   "outputs": [],
   "source": [
    "class BubbleSort:\n",
    "    def sort(self,array):\n",
    "        rep = range(len(array)-1, -1, -1)\n",
    "        for i in rep:\n",
    "            l = 0\n",
    "            while l < len(array[:i]):\n",
    "                if array[l] > array[l+1]:\n",
    "                    temp = array[l+1]\n",
    "                    array[l+1] = array[l]\n",
    "                    array[l] = temp\n",
    "                l+= 1"
   ]
  },
  {
   "cell_type": "code",
   "execution_count": 49,
   "metadata": {},
   "outputs": [
    {
     "data": {
      "text/plain": [
       "[1, 2, 4, 5, 6, 6, 6, 8, 8, 11]"
      ]
     },
     "execution_count": 49,
     "metadata": {},
     "output_type": "execute_result"
    }
   ],
   "source": [
    "bs = BubbleSort()\n",
    "a = [1,5,4,2,6,8,6,6,8,11]\n",
    "bs.sort(a)\n",
    "a"
   ]
  },
  {
   "cell_type": "code",
   "execution_count": 82,
   "metadata": {},
   "outputs": [],
   "source": [
    "class InsertSort:\n",
    "    def sort(self,array):\n",
    "        bs = BinarySearch()\n",
    "        for i in range(1,len(array)):\n",
    "            idx = bs.search(array[:i],array[i])\n",
    "            temp = array[idx:i]\n",
    "            array[idx] = array[i]\n",
    "            array[idx+1 : i+1] = temp    \n"
   ]
  },
  {
   "cell_type": "code",
   "execution_count": 91,
   "metadata": {},
   "outputs": [
    {
     "data": {
      "text/plain": [
       "[1, 2, 4, 5, 6, 6, 6, 8, 8, 8, 11]"
      ]
     },
     "execution_count": 91,
     "metadata": {},
     "output_type": "execute_result"
    }
   ],
   "source": [
    "a = [1,5,4,2,6,8,8,6,6,8,11]\n",
    "\n",
    "Is = InsertSort()\n",
    "Is.sort(a)\n",
    "a"
   ]
  },
  {
   "cell_type": "code",
   "execution_count": 84,
   "metadata": {},
   "outputs": [],
   "source": [
    "class InsertSort2:\n",
    "    def sort(self, array):\n",
    "        for i in range(1,len(array)):\n",
    "            key = array[i]\n",
    "            j = i-1\n",
    "            while (j >= 0) and (array[j] > key):\n",
    "                array[j+1] = array[j]\n",
    "                j -= 1\n",
    "            array[j+1] = key"
   ]
  },
  {
   "cell_type": "code",
   "execution_count": 92,
   "metadata": {},
   "outputs": [
    {
     "data": {
      "text/plain": [
       "[1, 2, 4, 5, 6, 6, 6, 8, 8, 8, 11]"
      ]
     },
     "execution_count": 92,
     "metadata": {},
     "output_type": "execute_result"
    }
   ],
   "source": [
    "a = [1,5,4,2,6,8,8,6,6,8,11]\n",
    "\n",
    "Is = InsertSort2()\n",
    "Is.sort(a)\n",
    "a"
   ]
  },
  {
   "cell_type": "code",
   "execution_count": 164,
   "metadata": {},
   "outputs": [],
   "source": [
    "class MergeSort:\n",
    "    def sort(self,array):\n",
    "        self.mergesort(0, len(array)-1, array)\n",
    "\n",
    "    def mergesort(self,l, h, array):\n",
    "        if l >= h:\n",
    "            return None\n",
    "\n",
    "        m = int(l/2 + h/2) \n",
    "        self.mergesort(l,m,array)\n",
    "        self.mergesort(m+1,h,array)\n",
    "\n",
    "        self.merge(l, m, h, array)\n",
    "    \n",
    "      \n",
    "\n",
    "    def merge(self,l,m,h,array):\n",
    "        temp1 = array[l:m+1]\n",
    "        temp2 = array[m+1:h+1]\n",
    "        idx = l\n",
    "        cnt1, cnt2 = 0,0\n",
    "        while cnt1 < m+1 - l  and cnt2 < h - m:\n",
    "            if temp1[cnt1] <= temp2[cnt2]:\n",
    "                array[idx] = temp1[cnt1]\n",
    "                cnt1 +=1\n",
    "            else:\n",
    "                array[idx] = temp2[cnt2]\n",
    "                cnt2 +=1\n",
    "            idx +=1\n",
    "        if cnt2  == h - m:\n",
    "            array[idx:h+1] = temp1[cnt1:]\n",
    "        else:\n",
    "            array[idx:h+1] = temp2[cnt2:]\n",
    "            "
   ]
  },
  {
   "cell_type": "code",
   "execution_count": 239,
   "metadata": {},
   "outputs": [
    {
     "data": {
      "text/plain": [
       "[1,\n",
       " 2,\n",
       " 2,\n",
       " 3,\n",
       " 4,\n",
       " 5,\n",
       " 5,\n",
       " 7,\n",
       " 10,\n",
       " 12,\n",
       " 21,\n",
       " 21,\n",
       " 32,\n",
       " 32,\n",
       " 35,\n",
       " 45,\n",
       " 45,\n",
       " 45,\n",
       " 54,\n",
       " 54,\n",
       " 65,\n",
       " 78,\n",
       " 87,\n",
       " 95]"
      ]
     },
     "execution_count": 239,
     "metadata": {},
     "output_type": "execute_result"
    }
   ],
   "source": [
    "a = [1,2,3,5,2,4,7,10,35,12,65,78,45,95,87,54,21,21,45,54,32,45,5,32]\n",
    "ms = MergeSort()\n",
    "ms.sort(a)\n",
    "a"
   ]
  },
  {
   "cell_type": "code",
   "execution_count": 226,
   "metadata": {},
   "outputs": [],
   "source": [
    "class QuickSort:\n",
    "    def sort(self, array):\n",
    "        self.quicksort(0,len(array)-1,array)\n",
    "\n",
    "    def quicksort(self, l,h,array):\n",
    "        if l >= h  :\n",
    "            return None\n",
    "\n",
    "        pivot = int(l/2 + h/2)\n",
    "\n",
    "\n",
    "        m = self.pivoting(l,h,pivot,array)\n",
    "        self.quicksort(l,m-1,array)\n",
    "        self.quicksort(m+1,h,array)\n",
    "\n",
    "\n",
    "    def pivoting(self, l, h,pivot, array):\n",
    "        \n",
    "        crt = array[pivot]\n",
    "        left = []\n",
    "        right = []\n",
    "        for i in range(l, h+1, 1):\n",
    "            if i == pivot:\n",
    "                continue\n",
    "            if array[i] <= crt:\n",
    "                left.append(array[i])\n",
    "            else:\n",
    "                right.append(array[i])\n",
    "\n",
    "        array[l:l+len(left)] = left\n",
    "        array[l+len(left)] = crt\n",
    "        array[l+len(left)+1 : h+1] = right\n",
    "\n",
    "        return l+len(left)\n",
    "\n",
    "\n",
    "\n",
    "\n",
    "        "
   ]
  },
  {
   "cell_type": "code",
   "execution_count": 261,
   "metadata": {},
   "outputs": [
    {
     "data": {
      "text/plain": [
       "[1,\n",
       " 2,\n",
       " 2,\n",
       " 3,\n",
       " 4,\n",
       " 5,\n",
       " 5,\n",
       " 7,\n",
       " 10,\n",
       " 12,\n",
       " 21,\n",
       " 21,\n",
       " 32,\n",
       " 32,\n",
       " 35,\n",
       " 45,\n",
       " 45,\n",
       " 45,\n",
       " 54,\n",
       " 54,\n",
       " 65,\n",
       " 78,\n",
       " 87,\n",
       " 95]"
      ]
     },
     "execution_count": 261,
     "metadata": {},
     "output_type": "execute_result"
    }
   ],
   "source": [
    "a = [1,2,3,5,2,4,7,10,35,12,65,78,45,95,87,54,21,21,45,54,32,45,5,32]\n",
    "qs = QuickSort()\n",
    "qs.sort(a)\n",
    "a"
   ]
  },
  {
   "cell_type": "code",
   "execution_count": 262,
   "metadata": {},
   "outputs": [],
   "source": [
    "class QuickSort2:\n",
    "    def sort(self,array):\n",
    "        self.quicksort(0,len(array)-1,array)\n",
    "\n",
    "    def quicksort(self,l,h,array):\n",
    "        if l >= h:\n",
    "            return None\n",
    "        \n",
    "        pivot = int(l/2 + h/2)\n",
    "        crt = array[pivot]\n",
    "        left, right =l, h\n",
    "        while left <= right:\n",
    "            while array[left] < crt:\n",
    "                left += 1\n",
    "            while array[right] > crt:\n",
    "                right -=1\n",
    "            if left <= right:\n",
    "                temp = array[left]\n",
    "                array[left] = array[right]\n",
    "                array[right] = temp\n",
    "                left +=1\n",
    "                right -=1\n",
    "        self.quicksort(l,right, array)\n",
    "        self.quicksort(left,h, array)\n",
    "        "
   ]
  },
  {
   "cell_type": "code",
   "execution_count": 257,
   "metadata": {},
   "outputs": [
    {
     "data": {
      "text/plain": [
       "[1,\n",
       " 2,\n",
       " 2,\n",
       " 3,\n",
       " 4,\n",
       " 5,\n",
       " 5,\n",
       " 7,\n",
       " 10,\n",
       " 12,\n",
       " 21,\n",
       " 21,\n",
       " 32,\n",
       " 32,\n",
       " 35,\n",
       " 45,\n",
       " 45,\n",
       " 45,\n",
       " 54,\n",
       " 54,\n",
       " 65,\n",
       " 78,\n",
       " 87,\n",
       " 95]"
      ]
     },
     "execution_count": 257,
     "metadata": {},
     "output_type": "execute_result"
    }
   ],
   "source": [
    "a = [1,2,3,5,2,4,7,10,35,12,65,78,45,95,87,54,21,21,45,54,32,45,5,32]\n",
    "qs = QuickSort2()\n",
    "qs.sort(a)\n",
    "a"
   ]
  },
  {
   "cell_type": "code",
   "execution_count": null,
   "metadata": {},
   "outputs": [],
   "source": []
  }
 ],
 "metadata": {
  "interpreter": {
   "hash": "31f2aee4e71d21fbe5cf8b01ff0e069b9275f58929596ceb00d14d90e3e16cd6"
  },
  "kernelspec": {
   "display_name": "Python 3.8.2 64-bit",
   "language": "python",
   "name": "python3"
  },
  "language_info": {
   "codemirror_mode": {
    "name": "ipython",
    "version": 3
   },
   "file_extension": ".py",
   "mimetype": "text/x-python",
   "name": "python",
   "nbconvert_exporter": "python",
   "pygments_lexer": "ipython3",
   "version": "3.8.8"
  },
  "orig_nbformat": 4
 },
 "nbformat": 4,
 "nbformat_minor": 2
}
