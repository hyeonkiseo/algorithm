{
 "cells": [
  {
   "cell_type": "markdown",
   "metadata": {},
   "source": [
    "### Binary Search\n",
    "정렬이 되어있는 array에서 내가 원하는 value가 몇 번째에 위치하고 있는지 찾아내는 기법 \n",
    "\n",
    "시간복잡도 : $O(logN)$ (devide and conquer)"
   ]
  },
  {
   "cell_type": "code",
   "execution_count": 5,
   "metadata": {},
   "outputs": [],
   "source": [
    "class BinarySearch:\n",
    "    @ staticmethod\n",
    "    def search(array, target):\n",
    "        l = 0\n",
    "        r = len(array) -1\n",
    "\n",
    "        while l <= r :\n",
    "            m = int((l + r) /2)\n",
    "            \n",
    "            if array[m] == target:\n",
    "                return m\n",
    "            if array[m] < target:\n",
    "                l = m + 1\n",
    "            else:\n",
    "                r = m - 1\n",
    "        if array[m] > target:\n",
    "            return m\n",
    "        else:\n",
    "            return m+1\n"
   ]
  },
  {
   "cell_type": "code",
   "execution_count": 6,
   "metadata": {},
   "outputs": [
    {
     "data": {
      "text/plain": [
       "4"
      ]
     },
     "execution_count": 6,
     "metadata": {},
     "output_type": "execute_result"
    }
   ],
   "source": [
    "a = [0,1,2,3,5,6,7,8,9,10]\n",
    "BinarySearch.search(a,4)"
   ]
  },
  {
   "cell_type": "markdown",
   "metadata": {},
   "source": [
    "### Bubble sort\n",
    "모든 요소들을 다 비교해가면서 순서를 하나하나 바꾸며 정렬하는 기법\n",
    "\n",
    "시간복잡도 : $O(N^2)$"
   ]
  },
  {
   "cell_type": "code",
   "execution_count": 10,
   "metadata": {},
   "outputs": [],
   "source": [
    "class BubbleSort:\n",
    "    @staticmethod\n",
    "    def sort(array):\n",
    "        rep = range(len(array)-1, -1, -1)\n",
    "        for i in rep:\n",
    "            l = 0\n",
    "            while l < len(array[:i]):\n",
    "                if array[l] < array[l+1]:\n",
    "                    temp = array[l+1]\n",
    "                    array[l+1] = array[l]\n",
    "                    array[l] = temp\n",
    "                l+= 1\n"
   ]
  },
  {
   "cell_type": "code",
   "execution_count": 11,
   "metadata": {},
   "outputs": [
    {
     "data": {
      "text/plain": [
       "[11, 8, 8, 6, 6, 6, 5, 4, 2, 1]"
      ]
     },
     "execution_count": 11,
     "metadata": {},
     "output_type": "execute_result"
    }
   ],
   "source": [
    "a = [1,5,4,2,6,8,6,6,8,11]\n",
    "BubbleSort.sort(a)\n",
    "a"
   ]
  },
  {
   "cell_type": "markdown",
   "metadata": {},
   "source": [
    "### Insert Sort\n",
    "새로운 배열을 만들어 해당 배열에서는 BinarySearch method를 사용, 순서를 지키며 배열을 만드는 방법\n",
    "\n",
    "시간복잡도 : $O(N^2)$ "
   ]
  },
  {
   "cell_type": "code",
   "execution_count": 12,
   "metadata": {},
   "outputs": [],
   "source": [
    "class InsertSort:\n",
    "    def sort(self,array):\n",
    "        for i in range(1,len(array)):\n",
    "            idx = BinarySearch.search(array[:i],array[i])\n",
    "            temp = array[idx:i]\n",
    "            array[idx] = array[i]\n",
    "            array[idx+1 : i+1] = temp    \n"
   ]
  },
  {
   "cell_type": "code",
   "execution_count": 13,
   "metadata": {},
   "outputs": [
    {
     "data": {
      "text/plain": [
       "[1, 2, 4, 5, 6, 6, 6, 8, 8, 8, 11]"
      ]
     },
     "execution_count": 13,
     "metadata": {},
     "output_type": "execute_result"
    }
   ],
   "source": [
    "a = [1,5,4,2,6,8,8,6,6,8,11]\n",
    "\n",
    "Is = InsertSort()\n",
    "Is.sort(a)\n",
    "a"
   ]
  },
  {
   "cell_type": "code",
   "execution_count": 84,
   "metadata": {},
   "outputs": [],
   "source": [
    "class InsertSort2:\n",
    "    def sort(self, array):\n",
    "        for i in range(1,len(array)):\n",
    "            key = array[i]\n",
    "            j = i-1\n",
    "            while (j >= 0) and (array[j] > key):\n",
    "                array[j+1] = array[j]\n",
    "                j -= 1\n",
    "            array[j+1] = key"
   ]
  },
  {
   "cell_type": "code",
   "execution_count": 92,
   "metadata": {},
   "outputs": [
    {
     "data": {
      "text/plain": [
       "[1, 2, 4, 5, 6, 6, 6, 8, 8, 8, 11]"
      ]
     },
     "execution_count": 92,
     "metadata": {},
     "output_type": "execute_result"
    }
   ],
   "source": [
    "a = [1,5,4,2,6,8,8,6,6,8,11]\n",
    "\n",
    "Is = InsertSort2()\n",
    "Is.sort(a)\n",
    "a"
   ]
  },
  {
   "cell_type": "markdown",
   "metadata": {},
   "source": [
    "### Merge Sort\n",
    "하나의 리스트를 두 개의 균등한 크기의 리스트로 분할하고 부분리스트를 합치면서 정렬하여 전체가 정렬되게 하는 방법\n",
    "\n",
    "시간복잡도 : $O(NlogN)$\n",
    "\n"
   ]
  },
  {
   "cell_type": "code",
   "execution_count": 164,
   "metadata": {},
   "outputs": [],
   "source": [
    "class MergeSort:\n",
    "    def sort(self,array):\n",
    "        self.mergesort(0, len(array)-1, array)\n",
    "\n",
    "    def mergesort(self,l, h, array):\n",
    "        if l >= h:\n",
    "            return None\n",
    "\n",
    "        m = int(l/2 + h/2) \n",
    "        self.mergesort(l,m,array)\n",
    "        self.mergesort(m+1,h,array)\n",
    "\n",
    "        self.merge(l, m, h, array)\n",
    "    \n",
    "      \n",
    "\n",
    "    def merge(self,l,m,h,array):\n",
    "        temp1 = array[l:m+1]\n",
    "        temp2 = array[m+1:h+1]\n",
    "        idx = l\n",
    "        cnt1, cnt2 = 0,0\n",
    "        while cnt1 < m+1 - l  and cnt2 < h - m:\n",
    "            if temp1[cnt1] <= temp2[cnt2]:\n",
    "                array[idx] = temp1[cnt1]\n",
    "                cnt1 +=1\n",
    "            else:\n",
    "                array[idx] = temp2[cnt2]\n",
    "                cnt2 +=1\n",
    "            idx +=1\n",
    "        if cnt2  == h - m:\n",
    "            array[idx:h+1] = temp1[cnt1:]\n",
    "        else:\n",
    "            array[idx:h+1] = temp2[cnt2:]\n",
    "            "
   ]
  },
  {
   "cell_type": "code",
   "execution_count": 239,
   "metadata": {},
   "outputs": [
    {
     "data": {
      "text/plain": [
       "[1,\n",
       " 2,\n",
       " 2,\n",
       " 3,\n",
       " 4,\n",
       " 5,\n",
       " 5,\n",
       " 7,\n",
       " 10,\n",
       " 12,\n",
       " 21,\n",
       " 21,\n",
       " 32,\n",
       " 32,\n",
       " 35,\n",
       " 45,\n",
       " 45,\n",
       " 45,\n",
       " 54,\n",
       " 54,\n",
       " 65,\n",
       " 78,\n",
       " 87,\n",
       " 95]"
      ]
     },
     "execution_count": 239,
     "metadata": {},
     "output_type": "execute_result"
    }
   ],
   "source": [
    "a = [1,2,3,5,2,4,7,10,35,12,65,78,45,95,87,54,21,21,45,54,32,45,5,32]\n",
    "ms = MergeSort()\n",
    "ms.sort(a)\n",
    "a"
   ]
  },
  {
   "cell_type": "markdown",
   "metadata": {},
   "source": [
    "### Quick Sort\n",
    "Divide and Conquer 사용, 추가적인 메모리 사용 X  불안정정렬 (같은 값에서는 추가적인 정렬이 없음)\n",
    "기준이 되는 pivot 값을 기준으로 작은값과 큰 값만을 나누어 정렬하고 이를 재귀함수로 반복 사용\n",
    "\n",
    "데이터를 캐시메모리에 저장해놓고 정렬하기 때문에 mergesort보다 빠름. \n",
    "\n",
    "파이썬 정렬 방식이 quicksort를 기반으로 함\n",
    "\n",
    "시간복잡도 : $O(NlogN)$"
   ]
  },
  {
   "cell_type": "code",
   "execution_count": 226,
   "metadata": {},
   "outputs": [],
   "source": [
    "class QuickSort:\n",
    "    def sort(self, array):\n",
    "        self.quicksort(0,len(array)-1,array)\n",
    "\n",
    "    def quicksort(self, l,h,array):\n",
    "        if l >= h  :\n",
    "            return None\n",
    "\n",
    "        pivot = int(l/2 + h/2)\n",
    "\n",
    "\n",
    "        m = self.pivoting(l,h,pivot,array)\n",
    "        self.quicksort(l,m-1,array)\n",
    "        self.quicksort(m+1,h,array)\n",
    "\n",
    "\n",
    "    def pivoting(self, l, h,pivot, array):\n",
    "        \n",
    "        crt = array[pivot]\n",
    "        left = []\n",
    "        right = []\n",
    "        for i in range(l, h+1, 1):\n",
    "            if i == pivot:\n",
    "                continue\n",
    "            if array[i] <= crt:\n",
    "                left.append(array[i])\n",
    "            else:\n",
    "                right.append(array[i])\n",
    "\n",
    "        array[l:l+len(left)] = left\n",
    "        array[l+len(left)] = crt\n",
    "        array[l+len(left)+1 : h+1] = right\n",
    "\n",
    "        return l+len(left)\n",
    "\n",
    "\n",
    "\n",
    "\n",
    "        "
   ]
  },
  {
   "cell_type": "code",
   "execution_count": 261,
   "metadata": {},
   "outputs": [
    {
     "data": {
      "text/plain": [
       "[1,\n",
       " 2,\n",
       " 2,\n",
       " 3,\n",
       " 4,\n",
       " 5,\n",
       " 5,\n",
       " 7,\n",
       " 10,\n",
       " 12,\n",
       " 21,\n",
       " 21,\n",
       " 32,\n",
       " 32,\n",
       " 35,\n",
       " 45,\n",
       " 45,\n",
       " 45,\n",
       " 54,\n",
       " 54,\n",
       " 65,\n",
       " 78,\n",
       " 87,\n",
       " 95]"
      ]
     },
     "execution_count": 261,
     "metadata": {},
     "output_type": "execute_result"
    }
   ],
   "source": [
    "a = [1,2,3,5,2,4,7,10,35,12,65,78,45,95,87,54,21,21,45,54,32,45,5,32]\n",
    "qs = QuickSort()\n",
    "qs.sort(a)\n",
    "a"
   ]
  },
  {
   "cell_type": "code",
   "execution_count": 262,
   "metadata": {},
   "outputs": [],
   "source": [
    "class QuickSort2:\n",
    "    def sort(self,array):\n",
    "        self.quicksort(0,len(array)-1,array)\n",
    "\n",
    "    def quicksort(self,l,h,array):\n",
    "        if l >= h:\n",
    "            return None\n",
    "        \n",
    "        pivot = int(l/2 + h/2)\n",
    "        crt = array[pivot]\n",
    "        left, right =l, h\n",
    "        while left <= right:\n",
    "            while array[left] < crt:\n",
    "                left += 1\n",
    "            while array[right] > crt:\n",
    "                right -=1\n",
    "            if left <= right:\n",
    "                temp = array[left]\n",
    "                array[left] = array[right]\n",
    "                array[right] = temp\n",
    "                left +=1\n",
    "                right -=1\n",
    "        self.quicksort(l,right, array)\n",
    "        self.quicksort(left,h, array)\n",
    "        "
   ]
  },
  {
   "cell_type": "code",
   "execution_count": 257,
   "metadata": {},
   "outputs": [
    {
     "data": {
      "text/plain": [
       "[1,\n",
       " 2,\n",
       " 2,\n",
       " 3,\n",
       " 4,\n",
       " 5,\n",
       " 5,\n",
       " 7,\n",
       " 10,\n",
       " 12,\n",
       " 21,\n",
       " 21,\n",
       " 32,\n",
       " 32,\n",
       " 35,\n",
       " 45,\n",
       " 45,\n",
       " 45,\n",
       " 54,\n",
       " 54,\n",
       " 65,\n",
       " 78,\n",
       " 87,\n",
       " 95]"
      ]
     },
     "execution_count": 257,
     "metadata": {},
     "output_type": "execute_result"
    }
   ],
   "source": [
    "a = [1,2,3,5,2,4,7,10,35,12,65,78,45,95,87,54,21,21,45,54,32,45,5,32]\n",
    "qs = QuickSort2()\n",
    "qs.sort(a)\n",
    "a"
   ]
  }
 ],
 "metadata": {
  "kernelspec": {
   "display_name": "Python 3.8.5 ('base')",
   "language": "python",
   "name": "python3"
  },
  "language_info": {
   "codemirror_mode": {
    "name": "ipython",
    "version": 3
   },
   "file_extension": ".py",
   "mimetype": "text/x-python",
   "name": "python",
   "nbconvert_exporter": "python",
   "pygments_lexer": "ipython3",
   "version": "3.8.5"
  },
  "orig_nbformat": 4,
  "vscode": {
   "interpreter": {
    "hash": "f0190fb74f711315221f4b0fca7b4ef265268b3d2a54bfc83b74f16662ccc29d"
   }
  }
 },
 "nbformat": 4,
 "nbformat_minor": 2
}
