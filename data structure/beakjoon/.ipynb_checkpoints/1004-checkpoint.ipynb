{
 "cells": [
  {
   "cell_type": "code",
   "execution_count": 1,
   "id": "933043fe-6739-4d31-b45d-7b6b7e7732a6",
   "metadata": {},
   "outputs": [],
   "source": [
    "a = \"\"\"2\n",
    "-5 1 12 1\n",
    "7\n",
    "1 1 8\n",
    "-3 -1 1\n",
    "2 2 2\n",
    "5 5 1\n",
    "-4 5 1\n",
    "12 1 1\n",
    "12 1 2\n",
    "-5 1 5 1\n",
    "1\n",
    "0 0 2\"\"\""
   ]
  },
  {
   "cell_type": "code",
   "execution_count": 6,
   "id": "82188d46-de6d-4102-9a5f-00722d17abe8",
   "metadata": {},
   "outputs": [],
   "source": [
    "t,cen1,num1,c1,c2,c3,c4,c5,c6,c7,cen2,num2,c11 = a.split(sep = '\\n')"
   ]
  },
  {
   "cell_type": "code",
   "execution_count": 14,
   "id": "8ab15fff-d354-4414-bccf-c20b450a6a9a",
   "metadata": {},
   "outputs": [
    {
     "name": "stdout",
     "output_type": "stream",
     "text": [
      "3\n"
     ]
    }
   ],
   "source": [
    "import math\n",
    "t\n",
    "c = [c1,c2,c3,c4,c5,c6,c7]\n",
    "x1, y1, x2, y2 = map(int,cen1.split())\n",
    "cnt = 0\n",
    "n = int(num1)\n",
    "for i in range(n):\n",
    "    cx,cy,r = map(int,c[i].split())\n",
    "    d1 = math.sqrt((cx-x1)**2 + (cy-y1)**2)\n",
    "    d2 = math.sqrt((cx-x2)**2 + (cy-y2)**2)\n",
    "    if (d1 < r) or (d2 < r):\n",
    "        cnt+=1\n",
    "    if d1 + d2 < 2*r:\n",
    "        cnt -=1\n",
    "print(cnt)"
   ]
  },
  {
   "cell_type": "code",
   "execution_count": null,
   "id": "f2984dc5-fa7a-451a-af42-845944f7e495",
   "metadata": {},
   "outputs": [],
   "source": [
    "import math\n",
    "t = int(input())\n",
    "for _ in range(t):\n",
    "    x1, y1, x2, y2 = map(int,input().split())\n",
    "    cnt = 0\n",
    "    n = int(input())\n",
    "    for i in range(n):\n",
    "        cx,cy,r = map(int,input().split())\n",
    "        d1 = math.sqrt((cx-x1)**2 + (cy-y1)**2)\n",
    "        d2 = math.sqrt((cx-x2)**2 + (cy-y2)**2)\n",
    "        if ((d1 < r) and (d2 > r)) or ((d1 > r) and (d2 < r)):\n",
    "            cnt+=1\n",
    "    print(cnt)"
   ]
  }
 ],
 "metadata": {
  "kernelspec": {
   "display_name": "Python 3",
   "language": "python",
   "name": "python3"
  },
  "language_info": {
   "codemirror_mode": {
    "name": "ipython",
    "version": 3
   },
   "file_extension": ".py",
   "mimetype": "text/x-python",
   "name": "python",
   "nbconvert_exporter": "python",
   "pygments_lexer": "ipython3",
   "version": "3.8.8"
  }
 },
 "nbformat": 4,
 "nbformat_minor": 5
}
