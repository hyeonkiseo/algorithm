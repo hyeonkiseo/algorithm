{
 "cells": [
  {
   "cell_type": "code",
   "execution_count": 5,
   "id": "234bcaa7-ce9c-4f8d-a3bd-d41bff2474be",
   "metadata": {},
   "outputs": [],
   "source": [
    "import numpy as np\n",
    "import pandas as pd"
   ]
  },
  {
   "cell_type": "markdown",
   "id": "1ab2c9eb",
   "metadata": {},
   "source": [
    "### Stack\n",
    "#### * 정의\n",
    "후입 선출\n",
    "\n",
    "#### * 사용 예시 \n",
    "뒤로가기, 실행취소 등 가장 최근의 Action을 주로 확인해야 할 떄 사용"
   ]
  },
  {
   "cell_type": "markdown",
   "id": "6e974695",
   "metadata": {},
   "source": [
    "#### * 연산 종류\n",
    "push (삽입), pop (추출), peek(맨위 자료 확인), "
   ]
  },
  {
   "cell_type": "code",
   "execution_count": 6,
   "id": "8d204870-9f4d-491f-8c8e-f952c4268c4e",
   "metadata": {},
   "outputs": [],
   "source": [
    "class Node():\n",
    "    def __init__(self, data, nxt):\n",
    "        self.data = data\n",
    "        self.nxt = nxt\n",
    "        "
   ]
  },
  {
   "cell_type": "code",
   "execution_count": 7,
   "id": "64a322e6-2302-4c8e-a9d8-3309bd32a4e0",
   "metadata": {},
   "outputs": [],
   "source": [
    "class Mystack:\n",
    "    def __init__(self):\n",
    "        self.size = 0\n",
    "        self.head = Node(None,None)  # it located after newest node\n",
    "        \n",
    "    def push(self,data):\n",
    "        new = Node(data,self.head.nxt) # 기존의 가장 앞에 있었던 노드를 nxt로 받는 노드 생성\n",
    "        self.head.nxt = new # 헤드의 다음 노드를 new node로 바꿈\n",
    "        self.size +=1\n",
    "        pass\n",
    "        \n",
    "        \n",
    "    def pop(self):\n",
    "        if self.head.nxt == None:\n",
    "            return None\n",
    "        \n",
    "        pop = self.head.nxt # 현재 가장 최신에 들어온 데이터\n",
    "        self.head.nxt = pop.nxt # 바로 전에 들어온 데이터로 head의 포인터 지정 \n",
    "        self.size -= 1 # size 1 감소\n",
    "        return pop.data  # pop의 데이터 반환\n",
    "    \n",
    "    def peek(self):\n",
    "        return self.head.nxt.data  # 구조 변환 없이 데이터만 반환\n",
    "    \n",
    "    def isEmpty(self):\n",
    "        if self.head.nxt == None:\n",
    "            return True\n",
    "        else : \n",
    "            return False\n",
    "        \n",
    "    def get_size(self):\n",
    "        return self.size        "
   ]
  },
  {
   "cell_type": "code",
   "execution_count": 68,
   "id": "f2a1ac3f-6fdb-4433-8a1e-28cc10f601c8",
   "metadata": {},
   "outputs": [],
   "source": [
    "a = Mystack()\n",
    "a.push(3)"
   ]
  },
  {
   "cell_type": "code",
   "execution_count": 69,
   "id": "6efc2abf-fce7-49ce-ac1d-33610571e4d7",
   "metadata": {},
   "outputs": [],
   "source": [
    "a.push(2)"
   ]
  },
  {
   "cell_type": "code",
   "execution_count": 70,
   "id": "2e283998-8cf5-4379-89ae-8c0966f2b92b",
   "metadata": {},
   "outputs": [],
   "source": [
    "a.push(1)"
   ]
  },
  {
   "cell_type": "code",
   "execution_count": 71,
   "id": "ec61f5c4-4500-4132-84d2-d1b1701d9574",
   "metadata": {},
   "outputs": [
    {
     "data": {
      "text/plain": [
       "1"
      ]
     },
     "execution_count": 71,
     "metadata": {},
     "output_type": "execute_result"
    }
   ],
   "source": [
    "a.pop()"
   ]
  },
  {
   "cell_type": "code",
   "execution_count": 13,
   "id": "0735c4b5-ce8b-4908-b5b9-345be3b8f849",
   "metadata": {},
   "outputs": [
    {
     "data": {
      "text/plain": [
       "2"
      ]
     },
     "execution_count": 13,
     "metadata": {},
     "output_type": "execute_result"
    }
   ],
   "source": [
    "a.pop()"
   ]
  },
  {
   "cell_type": "code",
   "execution_count": 14,
   "id": "21169e05-1bf3-4f40-b5a5-37c9ab936e60",
   "metadata": {},
   "outputs": [
    {
     "data": {
      "text/plain": [
       "3"
      ]
     },
     "execution_count": 14,
     "metadata": {},
     "output_type": "execute_result"
    }
   ],
   "source": [
    "a.peek()"
   ]
  },
  {
   "cell_type": "code",
   "execution_count": 15,
   "id": "937a548e-6585-4289-b9e7-2c27b0a4aabb",
   "metadata": {},
   "outputs": [
    {
     "data": {
      "text/plain": [
       "1"
      ]
     },
     "execution_count": 15,
     "metadata": {},
     "output_type": "execute_result"
    }
   ],
   "source": [
    "a.peek()\n",
    "a.get_size()"
   ]
  },
  {
   "cell_type": "code",
   "execution_count": 20,
   "id": "f049b994-2be1-4f80-925f-7959b3059206",
   "metadata": {},
   "outputs": [],
   "source": [
    "a.pop()"
   ]
  },
  {
   "cell_type": "markdown",
   "id": "16ab29f0",
   "metadata": {},
   "source": [
    "### Queue\n",
    "#### * 정의\n",
    "선입선출\n",
    "\n",
    "#### * 사용 예시\n",
    "사용자가 몰린 서버 등 먼저 들어온 데이터에 먼저 Action을 취해주어야 할 때 사용\n",
    "\n",
    "#### * 사용 연산\n",
    "push (입력 = enqueue), pop (먼저 들어온 것 먼저 추출 = deque), peek (맨 먼저 들어온 자료 확인)\n",
    "\n"
   ]
  },
  {
   "cell_type": "markdown",
   "id": "0e478df8",
   "metadata": {},
   "source": [
    "#### * Linked list 기반 구현\n",
    "데이터 크기의 제약이 없음"
   ]
  },
  {
   "cell_type": "code",
   "execution_count": 21,
   "id": "b6c540f4-7718-4c13-87ef-5062dc471e37",
   "metadata": {},
   "outputs": [],
   "source": [
    "class DoubleLinkNode:\n",
    "    def __init__(self, data, nxt, prev):\n",
    "        self.data = data\n",
    "        self.nxt = nxt\n",
    "        self.prev = prev    \n",
    "\n",
    "class Myqueue:\n",
    "    def __init__(self):\n",
    "        self.size = 0\n",
    "        self.head = DoubleLinkNode(None,None,None)\n",
    "        self.tail = DoubleLinkNode(None,None,None)\n",
    "        self.head.prev = self.tail\n",
    "        self.tail.nxt = self.head\n",
    "        \n",
    "    def enqueue(self,data):\n",
    "        new = DoubleLinkNode(data,self.tail.nxt,self.tail)\n",
    "        self.tail.nxt.prev = new\n",
    "        self.tail.nxt = new\n",
    "        self.size +=1\n",
    "        return None\n",
    "    \n",
    "    def dequeue(self):\n",
    "        pop = self.head.prev\n",
    "        pop.prev.nxt = self.head\n",
    "        self.head.prev = pop.prev\n",
    "        self.size -=1\n",
    "        return pop.data\n",
    "    \n",
    "    def peek(self):\n",
    "        return self.head.prev.data\n",
    "    \n",
    "    def isEmpty(self):\n",
    "        if self.head.prev == self.tail:\n",
    "            return True\n",
    "        else:\n",
    "            return False\n",
    "        \n",
    "    def get_size(self):\n",
    "        return self.size    "
   ]
  },
  {
   "cell_type": "code",
   "execution_count": 72,
   "id": "4ea610f2-9f83-4760-bf40-c1e56906b4aa",
   "metadata": {},
   "outputs": [
    {
     "data": {
      "text/plain": [
       "3"
      ]
     },
     "execution_count": 72,
     "metadata": {},
     "output_type": "execute_result"
    }
   ],
   "source": [
    "a = Myqueue()\n",
    "a.enqueue(3)\n",
    "a.enqueue(2)\n",
    "a.enqueue(1)\n",
    "a.dequeue()"
   ]
  },
  {
   "cell_type": "code",
   "execution_count": 73,
   "id": "0f8230b7-2c13-4978-a88c-56f6ec319905",
   "metadata": {},
   "outputs": [
    {
     "data": {
      "text/plain": [
       "2"
      ]
     },
     "execution_count": 73,
     "metadata": {},
     "output_type": "execute_result"
    }
   ],
   "source": [
    "a.dequeue()"
   ]
  },
  {
   "cell_type": "code",
   "execution_count": 74,
   "id": "f1181b7c-7cd0-48c4-9eca-7433c8b3ce12",
   "metadata": {},
   "outputs": [
    {
     "data": {
      "text/plain": [
       "1"
      ]
     },
     "execution_count": 74,
     "metadata": {},
     "output_type": "execute_result"
    }
   ],
   "source": [
    "a.dequeue()"
   ]
  },
  {
   "cell_type": "code",
   "execution_count": 75,
   "id": "1999b36e-674c-435f-b6c3-df06b19f2a47",
   "metadata": {},
   "outputs": [
    {
     "data": {
      "text/plain": [
       "True"
      ]
     },
     "execution_count": 75,
     "metadata": {},
     "output_type": "execute_result"
    }
   ],
   "source": [
    "a.isEmpty()"
   ]
  },
  {
   "cell_type": "markdown",
   "id": "eb55e8cc",
   "metadata": {},
   "source": [
    "#### * Arraylist 기반 구현\n",
    "Circular queue 라는 특수한 형태 사용\n",
    "\n",
    "큐의 최대 크기가 정해져 있음. Rear와 Front의 index를 기반으로 queue를 구현함"
   ]
  },
  {
   "cell_type": "code",
   "execution_count": 64,
   "id": "0d63befe-1a60-4311-bb9f-9e5e42739936",
   "metadata": {},
   "outputs": [],
   "source": [
    "class Mycircularque:\n",
    "    def __init__(self, size):\n",
    "        self.array = [None] * (size+1)\n",
    "        self.front= -1\n",
    "        self.rear = -1\n",
    "        self.maxsize = size +1\n",
    "    \n",
    "    def enque(self, data):\n",
    "        if self.isFull():\n",
    "            print('que is already full')\n",
    "            return False\n",
    "        self.rear = (self.rear+1) % self.maxsize\n",
    "        self.array[self.rear] = data\n",
    "        return True\n",
    "     \n",
    "    def deque(self):\n",
    "        if self.isEmpty():\n",
    "            print('que is already empty')\n",
    "            return False\n",
    "        self.front = (self.front + 1) % self.maxsize\n",
    "        temp = self.array[self.front]\n",
    "        self.array[self.front] = None\n",
    "        return temp\n",
    "\n",
    "    def peek(self):\n",
    "        return self.array[(self.front + 1) % self.maxsize]\n",
    "    \n",
    "    def get_size(self):\n",
    "        if self.rear >= self.front:\n",
    "            return self.rear - self.front\n",
    "        else: \n",
    "            return self.rear + self.maxsize - self.front\n",
    "\n",
    "    def isEmpty(self):\n",
    "        if self.front == self.rear:\n",
    "            return True\n",
    "        else:\n",
    "            return False        \n",
    "        \n",
    "    def isFull(self):\n",
    "        if (self.rear + 1) % self.maxsize == (self.front) % self.maxsize:\n",
    "            return True\n",
    "        else:\n",
    "            return False        "
   ]
  },
  {
   "cell_type": "code",
   "execution_count": 65,
   "id": "4217ce8a-2e69-4844-bc32-dd04035da5fc",
   "metadata": {},
   "outputs": [
    {
     "data": {
      "text/plain": [
       "[1, 2, 3, None]"
      ]
     },
     "execution_count": 65,
     "metadata": {},
     "output_type": "execute_result"
    }
   ],
   "source": [
    "a = Mycircularque(3)\n",
    "a.enque(1)\n",
    "a.enque(2)\n",
    "a.enque(3)\n",
    "a.array"
   ]
  },
  {
   "cell_type": "code",
   "execution_count": 66,
   "id": "ade55cea-4285-480d-94f9-dc5296ac56ea",
   "metadata": {},
   "outputs": [
    {
     "data": {
      "text/plain": [
       "[None, None, 3, None]"
      ]
     },
     "execution_count": 66,
     "metadata": {},
     "output_type": "execute_result"
    }
   ],
   "source": [
    "a.deque()\n",
    "a.deque()\n",
    "a.peek()\n",
    "a.array"
   ]
  },
  {
   "cell_type": "code",
   "execution_count": 67,
   "id": "2b6a32c7-be95-4213-8455-136ca7785683",
   "metadata": {},
   "outputs": [
    {
     "data": {
      "text/plain": [
       "1"
      ]
     },
     "execution_count": 67,
     "metadata": {},
     "output_type": "execute_result"
    }
   ],
   "source": [
    "a.get_size()"
   ]
  },
  {
   "cell_type": "markdown",
   "id": "d7ee0d4d",
   "metadata": {},
   "source": [
    "### 해시\n",
    "#### * 정의\n",
    "데이터를 빠르게 저장하고 가져오는 기법 중 하나 \n",
    "\n",
    "키에 특정 연산을 적용하여 테이블의 주소를 반환하는 방법\n",
    "\n",
    "키 밸류의 쌍으로 구현되며, 데이터에 순서가 종재하지 않는다는 특징이 있음.\n",
    "\n",
    "빠른 탐색을 위해 주로 사용"
   ]
  },
  {
   "cell_type": "markdown",
   "id": "d779a799",
   "metadata": {},
   "source": [
    "#### * 구현\n",
    "collision 을 피하기 위해 value를 linked list로 구현"
   ]
  },
  {
   "cell_type": "code",
   "execution_count": 131,
   "id": "5159e3b5-fee1-4a45-880b-0090772c3838",
   "metadata": {},
   "outputs": [],
   "source": [
    "class Node ():\n",
    "    def __init__(self, data, nxt):\n",
    "        self.data = data\n",
    "        self.nxt = nxt\n",
    "        \n",
    "class MyLinkedList():\n",
    "    def __init__(self):\n",
    "        self.size = 0\n",
    "        self.head = Node(None,None)\n",
    "        pass\n",
    "    \n",
    "    def add(self,data):\n",
    "        new = Node(data, None)\n",
    "        curr = self.head\n",
    "        \n",
    "        while curr.nxt != None :\n",
    "            curr = curr.nxt\n",
    "            \n",
    "        curr.nxt = new\n",
    "                \n",
    "        self.size += 1\n",
    "        \n",
    "    def insert(self, idx, data):\n",
    "        count = idx\n",
    "        curr = self.head\n",
    "        while count >0: # 삽입하기 하나 전 노드까지\n",
    "            curr = curr.nxt\n",
    "            count -= 1\n",
    "        temp = curr.nxt # 원래 삽입하려고 하던 인덱스에 있던 노드\n",
    "        curr.nxt = Node(data,curr.nxt)\n",
    "        self.size += 1\n",
    "        \n",
    "    \n",
    "    def clear(self):\n",
    "        self.size = 0\n",
    "        self.head = Node(None,None)\n",
    "        \n",
    "        \n",
    "    def delete(self, val): # delete by value\n",
    "        prev = self.head\n",
    "        curr = self.head.nxt\n",
    "        \n",
    "        while curr.nxt != None:\n",
    "            if curr.data == val:\n",
    "                prev.nxt = curr.nxt\n",
    "                curr.nxt = None\n",
    "                self.size -= 1\n",
    "                return True\n",
    "            else :\n",
    "                prev = prev.nxt\n",
    "                curr = curr.nxt\n",
    "        return False\n",
    "    \n",
    "    def delbyidx(self,idx):\n",
    "        prev = self.head\n",
    "        curr = self.head.nxt\n",
    "        \n",
    "        count = idx\n",
    "        while count >0:\n",
    "            prev = prev.nxt\n",
    "            curr = curr.nxt\n",
    "            count -= 1\n",
    "            \n",
    "        prev.nxt = curr.nxt\n",
    "        curr.nxt = None\n",
    "        self.size -= 1\n",
    "    \n",
    "    def get(self,idx):\n",
    "        if idx >= self.size:\n",
    "            print('idx is out of range')\n",
    "            return None\n",
    "            \n",
    "        prev = self.head\n",
    "        curr = self.head.nxt\n",
    "        \n",
    "        count = idx\n",
    "        while count >0:\n",
    "            prev = prev.nxt\n",
    "            curr = curr.nxt\n",
    "            count -= 1\n",
    "            \n",
    "        return curr.data\n",
    "    \n",
    "    def getidx(self, value):\n",
    "        idx = 0\n",
    "        curr = self.head.nxt\n",
    "        while curr.nxt != None:\n",
    "            if curr.data == value:\n",
    "                return idx\n",
    "            idx += 1\n",
    "            curr = curr.nxt\n",
    "        return None\n",
    "    \n",
    "    def isEmpty(self):\n",
    "        if self.head.nxt == None:\n",
    "            return True\n",
    "        else:\n",
    "            return False\n",
    "    \n",
    "    \n",
    "    def contain(self, value):\n",
    "        curr = self.head.nxt\n",
    "        while curr.nxt != None:\n",
    "            if curr.data == value:\n",
    "                return True\n",
    "            curr = curr.nxt\n",
    "        return False\n",
    "        \n",
    "        "
   ]
  },
  {
   "cell_type": "code",
   "execution_count": 132,
   "id": "2f4888da-8732-4435-bd0a-a0e890c1cf6f",
   "metadata": {},
   "outputs": [],
   "source": [
    "class KVNode:\n",
    "    def __init__(self,key, value):\n",
    "        self.key = key\n",
    "        self.value = value\n",
    "        "
   ]
  },
  {
   "cell_type": "markdown",
   "id": "41e0dce8",
   "metadata": {},
   "source": [
    "#### 지정된 크기의 Array list를 만들고 key의 해쉬값이 같을 경우 충돌을 방지하기 위하여  각각의 ele를 linked list로 구현."
   ]
  },
  {
   "cell_type": "code",
   "execution_count": 239,
   "id": "5458a1c2-8b99-4746-9fd2-3b2f47870a75",
   "metadata": {},
   "outputs": [],
   "source": [
    "class MyHashtable:\n",
    "    def __init__(self, max_size = 1024):\n",
    "        self.array = []\n",
    "        for i in range(max_size):\n",
    "            newlink = MyLinkedList()\n",
    "            self.array.append(newlink)# each element of array is linked list in order to avoid collision\n",
    "        self.size = 0                 # by chaining method\n",
    "        self.maxsize = max_size\n",
    "        \n",
    "    def put(self, key, value):\n",
    "        idx = self.hashcode(key)   # get idx th linked list\n",
    "        curr = self.array[idx]       # currnt linked list\n",
    "        new = KVNode(key, value)\n",
    "        temp = curr.head.nxt\n",
    "        \n",
    "        while temp != None :         # if key is same as before, replace value\n",
    "            if temp.data.key == key:\n",
    "                temp.data.value = value\n",
    "                return None\n",
    "            temp = temp.nxt\n",
    "        \n",
    "        self.array[idx].add(new)\n",
    "        self.size += 1\n",
    "        return None\n",
    "        \n",
    "    def get(self, key):\n",
    "        idx = self.hashcode(key)\n",
    "        curr = self.array[idx]\n",
    "        temp = curr.head.nxt\n",
    "        while temp != None:\n",
    "            if temp.data.key == key:\n",
    "                return temp.data.value\n",
    "            temp = temp.nxt\n",
    "            \n",
    "        print(\"There is no data that have such key\")\n",
    "        return False        \n",
    "\n",
    "        \n",
    "    def delete(self, key):\n",
    "        idx = self.hashcode(key)\n",
    "        curr = self.array[idx] # linked list\n",
    "        temp = curr.head.nxt  # node\n",
    "        index = 0        \n",
    "        while temp != None:\n",
    "            if temp.data.key == key:\n",
    "                curr.delete(temp.data)\n",
    "                curr.delbyidx(index)\n",
    "                self.size -= 1\n",
    "                return None\n",
    "            temp = temp.nxt\n",
    "            index +=1\n",
    "        print(\"There is no data that have such key\")\n",
    "        return None\n",
    "        \n",
    "        \n",
    "        \n",
    "    def contains(self, key):\n",
    "        idx = self.hashcode(key)\n",
    "        curr = self.array[idx]\n",
    "        temp = curr.head.nxt\n",
    "        while temp != None:\n",
    "            if temp.data.key == key:\n",
    "                return True\n",
    "            temp = temp.nxt\n",
    "            \n",
    "        return False\n",
    "        \n",
    "    def get_size(self):\n",
    "        return self.size\n",
    "    \n",
    "    def hashcode(self, key):\n",
    "        temp = 0\n",
    "        for i in str(key):\n",
    "            temp += ord(i)\n",
    "        return int(temp % self.maxsize)\n",
    "        "
   ]
  },
  {
   "cell_type": "code",
   "execution_count": 241,
   "id": "823618eb-ae58-4245-89e7-faf196fc9c32",
   "metadata": {},
   "outputs": [],
   "source": [
    "myhash = MyHashtable()"
   ]
  },
  {
   "cell_type": "code",
   "execution_count": 250,
   "id": "b03a502d-3749-4e8c-a5d3-8f840da3e349",
   "metadata": {},
   "outputs": [],
   "source": [
    "#myhash.array"
   ]
  },
  {
   "cell_type": "code",
   "execution_count": 243,
   "id": "01f53c84-7880-4b62-b8e4-96c23532ae08",
   "metadata": {},
   "outputs": [],
   "source": [
    "myhash.put(\"Hi\",\"Hello\")\n",
    "myhash.put(\"Bye\",\"ByeBye\")"
   ]
  },
  {
   "cell_type": "code",
   "execution_count": 244,
   "id": "7b70e16e-bdb4-496c-91e1-4b5117882979",
   "metadata": {},
   "outputs": [
    {
     "data": {
      "text/plain": [
       "'ByeBye'"
      ]
     },
     "execution_count": 244,
     "metadata": {},
     "output_type": "execute_result"
    }
   ],
   "source": [
    "myhash.get(\"Bye\")"
   ]
  },
  {
   "cell_type": "code",
   "execution_count": 245,
   "id": "978b7ee0-958e-440c-a6f6-5cdb125ba083",
   "metadata": {},
   "outputs": [],
   "source": [
    "myhash.delete(\"Hi\")"
   ]
  },
  {
   "cell_type": "code",
   "execution_count": 246,
   "id": "813d7897-34b7-491d-8a0b-7bf43ba64e09",
   "metadata": {},
   "outputs": [
    {
     "data": {
      "text/plain": [
       "False"
      ]
     },
     "execution_count": 246,
     "metadata": {},
     "output_type": "execute_result"
    }
   ],
   "source": [
    "myhash.contains(\"Hi\")"
   ]
  },
  {
   "cell_type": "code",
   "execution_count": 247,
   "id": "8af10cf5-c235-4edf-909a-93f96d8ba950",
   "metadata": {},
   "outputs": [
    {
     "name": "stdout",
     "output_type": "stream",
     "text": [
      "There is no data that have such key\n"
     ]
    },
    {
     "data": {
      "text/plain": [
       "False"
      ]
     },
     "execution_count": 247,
     "metadata": {},
     "output_type": "execute_result"
    }
   ],
   "source": [
    "myhash.get(\"Hi\")"
   ]
  },
  {
   "cell_type": "code",
   "execution_count": 248,
   "id": "e7511a86-36b5-4998-9bb7-ffca213349c6",
   "metadata": {},
   "outputs": [
    {
     "data": {
      "text/plain": [
       "1"
      ]
     },
     "execution_count": 248,
     "metadata": {},
     "output_type": "execute_result"
    }
   ],
   "source": [
    "myhash.get_size()"
   ]
  },
  {
   "cell_type": "markdown",
   "id": "55901f28-5459-47c6-b2f5-d8a0da6903c5",
   "metadata": {},
   "source": [
    "## Other Hash collision avoiding method\n",
    "- Open addressing\n",
    "    해시값이 겹치면 인덱스에 일정 숫자 더해주는 것 (일정 숫자 혹은 exponential 하게 더해주기)\n",
    "    특정 인덱스 주변에 값이 몰리는 문제점\n",
    "    \n",
    "- 이중 해싱\n",
    "    해시 값이 겹치면 인덱스에 더해줄 숫자 역시 해시 함수를 통해 산출"
   ]
  }
 ],
 "metadata": {
  "kernelspec": {
   "display_name": "Python 3",
   "language": "python",
   "name": "python3"
  },
  "language_info": {
   "codemirror_mode": {
    "name": "ipython",
    "version": 3
   },
   "file_extension": ".py",
   "mimetype": "text/x-python",
   "name": "python",
   "nbconvert_exporter": "python",
   "pygments_lexer": "ipython3",
   "version": "3.8.8"
  }
 },
 "nbformat": 4,
 "nbformat_minor": 5
}
