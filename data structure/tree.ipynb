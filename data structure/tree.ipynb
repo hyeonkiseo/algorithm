{
 "cells": [
  {
   "cell_type": "code",
   "execution_count": 2,
   "metadata": {},
   "outputs": [],
   "source": [
    "# B tree , AVL tree 공부해"
   ]
  },
  {
   "cell_type": "markdown",
   "metadata": {},
   "source": [
    "### Tree\n",
    "한 노드가 여러 노드를 가리킬 수 있는 비선형적 자료구조, 그래프의 일종\n",
    "\n",
    "#### 이진트리\n",
    "각 노드가 최대 2개의 자식 노드를 가지는 트리\n",
    "\n",
    "#### 정이진트리\n",
    "리프노드 제외 자식이 1개인 경우가 없는 트리\n",
    "\n",
    "#### 포화이진트리\n",
    "모든 노드가 2개의 노드를 가진 이진트리\n",
    "\n",
    "#### 완전이진트리\n",
    "마지막 레벨을 제외하고 모든 노드가 채워진 트리, 마지막 레벨에서는 왼쪽 ->오른쪽으로 채워져야 함\n",
    "-> index 0자리를 비워둔 arraylist로 표현 가능. (부모노드 : i/2, 자식노드 : $i*2, i*2+1$)"
   ]
  },
  {
   "cell_type": "markdown",
   "metadata": {},
   "source": [
    "### 트리순회\n",
    "preorder : 부모 -> 왼쪽->오른쪽\n",
    "inorder : 왼쪽 -> 부모 -> 오른쪽\n",
    "postorder : 왼쪽 -> 오른쪽 ->부모"
   ]
  },
  {
   "cell_type": "markdown",
   "metadata": {},
   "source": [
    "### 이진탐색트리\n",
    "이진트리\n",
    "노드의 왼쪽 서브트리에는 루트노드보다 작은값, 오른쪽에는 큰값\n",
    "서브트리 역시 모두 이진탐색트리\n",
    "중복값은 없음\n",
    "\n",
    "#### 특징\n",
    "inorder 순회를 하면 데이터를 가장 작은 값 부터 탐색할 수 있음\n",
    "\n",
    "#### 연산\n",
    "삽입 : 중복데이터는 삽입하지 않음, 추가된 데이터는 리프노드에 삽입\n",
    "삭제 :\n",
    "1. 삭제할 데이터가 리프 : 그냥 삭제\n",
    "2. 삭제할 데이터의 자식이 1개 : 자식노드를 삭제한 데이터 노드의 위치로 변환\n",
    "3. 삭제할 데이터의 자식이 2개 : 왼쪽 서브트리의 최댓값 or 오른쪽 서브트리의 최솟값과 위치 교체"
   ]
  },
  {
   "cell_type": "code",
   "execution_count": 3,
   "metadata": {},
   "outputs": [],
   "source": [
    "class Node:\n",
    "    def __init__(self,data, left, right):\n",
    "        self.data = data\n",
    "        self.left = left\n",
    "        self.right = right"
   ]
  },
  {
   "cell_type": "code",
   "execution_count": 121,
   "metadata": {},
   "outputs": [],
   "source": [
    "class MyBinarySearchTree:\n",
    "    def __init__(self):\n",
    "        self.root = None \n",
    "        self.size = 0\n",
    "    def min(self):\n",
    "        curr = self.minNode(self.root)\n",
    "        return curr.data\n",
    "\n",
    "    def minNode(self, node):\n",
    "        curr = node\n",
    "        while curr.left != None:\n",
    "            curr = curr.left\n",
    "        return curr\n",
    "            \n",
    "\n",
    "\n",
    "    def max(self):\n",
    "        curr = self.maxNode(self.root)\n",
    "        return curr.data\n",
    "\n",
    "    def maxNode(self,node):\n",
    "        curr = node\n",
    "        while curr.right != None:\n",
    "            curr = curr.right\n",
    "        return curr\n",
    "    \n",
    "    def insert(self, data):\n",
    "        curr = self.root\n",
    "        if curr == None:\n",
    "            self.root = Node(data, None, None)\n",
    "            self.size += 1\n",
    "            return None\n",
    "        else:\n",
    "            while True:\n",
    "                if curr.data == data:\n",
    "                    print(\"this data is overlapped\")\n",
    "                    return None\n",
    "                elif curr.data > data:\n",
    "                    if curr.left == None:\n",
    "                        curr.left = Node(data, None, None)\n",
    "                        self.size += 1\n",
    "                        return None\n",
    "                    curr = curr.left\n",
    "                elif curr.data < data:\n",
    "                    if curr.right == None:\n",
    "                        curr.right = Node(data, None, None)\n",
    "                        self.size += 1\n",
    "                        return None\n",
    "                    curr = curr.right\n",
    "\n",
    "    def insert2(self,data):\n",
    "        self.root = self.insertNode(self.root,data)\n",
    "        return None\n",
    "\n",
    "    def insertNode(self,node,data):\n",
    "        if node == None:\n",
    "            self.size += 1\n",
    "            return Node(data,None,None)\n",
    "        \n",
    "        if node.data > data:\n",
    "            node.left = self.insertNode(node.left, data)\n",
    "        elif node.data < data:\n",
    "            node.right = self.insertNode(node.right,data)\n",
    "        return node\n",
    "        \n",
    "\n",
    "\n",
    "    def delete(self, data):\n",
    "        self.deleteNode(self.root, data)\n",
    "        return None\n",
    "\n",
    "    def deleteNode(self,node, data):\n",
    "        if node == None:\n",
    "            return None\n",
    "\n",
    "        if node.data > data:\n",
    "            node.left = self.deleteNode(node.left,data)\n",
    "        elif node.data < data:\n",
    "            node.right = self.deleteNode(node.right,data)\n",
    "        else :\n",
    "            self.size -=1  # find target \n",
    "            if node.left == None:\n",
    "                return node.right\n",
    "            elif node.right == None:\n",
    "                return node.left\n",
    "            node.data = self.minNode(node.right)\n",
    "            node.right = self.deleteNode(node.right, node.data)\n",
    "\n",
    "\n",
    "    def contain(self, data):\n",
    "        curr = self.root\n",
    "        while curr != None:\n",
    "            if curr.data == data:\n",
    "                return True\n",
    "            elif curr.data < data:\n",
    "                curr = curr.right\n",
    "            elif curr.data > data:\n",
    "                curr = curr.left\n",
    "        return False\n",
    "\n",
    "    def preorder(self):\n",
    "        curr = self.root\n",
    "        visited = []\n",
    "        return self.preordervisited(curr, visited)\n",
    "\n",
    "        \n",
    "        \n",
    "\n",
    "    def preordervisited(self, node, visited):\n",
    "        if node == None:\n",
    "            return visited\n",
    "\n",
    "        visited.append(node)\n",
    "        self.preordervisited(node.left,visited)\n",
    "        self.preordervisited(node.right,visited)\n",
    "\n",
    "        return visited\n",
    "\n",
    "\n",
    "        \n",
    "\n",
    "    def inorder(self):\n",
    "        curr = self.root\n",
    "        visited  = []\n",
    "        return self.inordervisited(curr,visited)\n",
    "\n",
    "    def inordervisited(self,node, visited):\n",
    "        if node == None:\n",
    "            return visited\n",
    "        self.inordervisited(node.left, visited)\n",
    "        visited.append(node)\n",
    "        self.inordervisited(node.right, visited)\n",
    "        return visited\n",
    "\n",
    "    def postorder(self):\n",
    "        curr = self.root\n",
    "        visited = []\n",
    "        return self.postordervisited(curr, visited)\n",
    "        \n",
    "\n",
    "    def postordervisited(self,node,visited):\n",
    "        if node == None:\n",
    "            return visited\n",
    "        self.postordervisited(node.left,visited)\n",
    "        self.postordervisited(node.right, visited)\n",
    "        visited.append(node)\n",
    "        return visited\n",
    "\n",
    "\n"
   ]
  },
  {
   "cell_type": "code",
   "execution_count": 124,
   "metadata": {},
   "outputs": [
    {
     "data": {
      "text/plain": [
       "2"
      ]
     },
     "execution_count": 124,
     "metadata": {},
     "output_type": "execute_result"
    }
   ],
   "source": [
    "a = MyBinarySearchTree()\n",
    "a.insert2(2)\n",
    "a.insert2(3)\n",
    "a.size"
   ]
  },
  {
   "cell_type": "code",
   "execution_count": 113,
   "metadata": {},
   "outputs": [],
   "source": [
    "a= MyBinarySearchTree()\n",
    "a.insert(32)\n",
    "a.insert(44)\n",
    "a.insert(12)\n",
    "a.insert(42)\n",
    "a.insert(1)\n",
    "a.insert(46)\n",
    "a.insert(99)"
   ]
  },
  {
   "cell_type": "code",
   "execution_count": 114,
   "metadata": {},
   "outputs": [
    {
     "data": {
      "text/plain": [
       "7"
      ]
     },
     "execution_count": 114,
     "metadata": {},
     "output_type": "execute_result"
    }
   ],
   "source": [
    "a.size"
   ]
  },
  {
   "cell_type": "code",
   "execution_count": 115,
   "metadata": {},
   "outputs": [],
   "source": [
    "a.delete(12)"
   ]
  },
  {
   "cell_type": "code",
   "execution_count": 116,
   "metadata": {},
   "outputs": [
    {
     "data": {
      "text/plain": [
       "False"
      ]
     },
     "execution_count": 116,
     "metadata": {},
     "output_type": "execute_result"
    }
   ],
   "source": [
    "a.contain(12)"
   ]
  },
  {
   "cell_type": "code",
   "execution_count": 117,
   "metadata": {},
   "outputs": [
    {
     "name": "stdout",
     "output_type": "stream",
     "text": [
      "32\n",
      "1\n",
      "44\n",
      "42\n",
      "46\n",
      "99\n",
      "----------------\n",
      "1\n",
      "32\n",
      "42\n",
      "44\n",
      "46\n",
      "99\n",
      "----------------\n",
      "1\n",
      "42\n",
      "99\n",
      "46\n",
      "44\n",
      "32\n"
     ]
    }
   ],
   "source": [
    "pre = a.preorder()\n",
    "ino = a.inorder()\n",
    "post = a.postorder()\n",
    "\n",
    "for i in range(len(pre)):\n",
    "    print(pre[i].data)\n",
    "\n",
    "print(\"----------------\")\n",
    "for i in range(len(ino)):\n",
    "    print(ino[i].data)\n",
    "\n",
    "print(\"----------------\")\n",
    "for i in range(len(post)):\n",
    "    print(post[i].data)"
   ]
  },
  {
   "cell_type": "code",
   "execution_count": 118,
   "metadata": {},
   "outputs": [
    {
     "data": {
      "text/plain": [
       "True"
      ]
     },
     "execution_count": 118,
     "metadata": {},
     "output_type": "execute_result"
    }
   ],
   "source": [
    "a.contain(99)"
   ]
  }
 ],
 "metadata": {
  "kernelspec": {
   "display_name": "Python 3.9.1 64-bit",
   "language": "python",
   "name": "python3"
  },
  "language_info": {
   "codemirror_mode": {
    "name": "ipython",
    "version": 3
   },
   "file_extension": ".py",
   "mimetype": "text/x-python",
   "name": "python",
   "nbconvert_exporter": "python",
   "pygments_lexer": "ipython3",
   "version": "3.9.1"
  },
  "orig_nbformat": 4,
  "vscode": {
   "interpreter": {
    "hash": "9a1bc4e8edb7b4930afb38eeb2843b01772008bd868100cec6b64c96169c6a09"
   }
  }
 },
 "nbformat": 4,
 "nbformat_minor": 2
}
