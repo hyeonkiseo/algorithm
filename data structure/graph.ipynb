{
 "cells": [
  {
   "cell_type": "markdown",
   "metadata": {},
   "source": [
    "### Graph\n",
    "#### * 그래프의 정의\n",
    "vertex(점)과 이를 잇는 edge(변)으로 이루어진 자료구조\n"
   ]
  },
  {
   "cell_type": "markdown",
   "metadata": {},
   "source": [
    "\n",
    "#### * 그래프의 종류\n",
    "- 그래프의 방향 구분 유무에 따라\n",
    "1. 방향그래프\n",
    "2. 무방향그래프\n",
    "\n",
    "- 가중치 유무에 따라\n",
    "1. 가중치 그래프\n",
    "2. 무가중치 그래프\n",
    "\n",
    "- 순환 유무에 따라\n",
    "1. 순환그래프 (어느 한 vertex에서 자기 자신으로 돌아올 수 있는 길이 존재하는 경우)\n",
    "2. 비순환 그래프"
   ]
  },
  {
   "cell_type": "markdown",
   "metadata": {},
   "source": [
    "#### * 그래프의 구현방법\n",
    "1. 행렬구현 \n",
    "\n",
    "$n\\times n$의 행렬을 만들고 각 vertex끼리 연결되었는지의 여부를 1과 0으로 표현\n",
    "\n",
    "장점 : 직관적으로 이해하기 쉽다.\n",
    "\n",
    "단점 : 메모리를 $ O( n^2 )$ 을 사용, 연결관계 변경이 어렵다.\n"
   ]
  },
  {
   "cell_type": "code",
   "execution_count": 32,
   "metadata": {},
   "outputs": [],
   "source": [
    "class Mygraph_matrix:\n",
    "    def __init__(self, num_of_vertex : int):\n",
    "        self.indegrees = {}\n",
    "        for i in range(num_of_vertex):\n",
    "            self.indegrees[i] = 0\n",
    "        self.matrix = []\n",
    "        for _ in range(num_of_vertex):\n",
    "            self.matrix.append([0]*num_of_vertex)\n",
    "\n",
    "    def add(self,from_, to_): # 무가중치 그래프\n",
    "        if self.matrix[from_][to_] == 0:\n",
    "            self.indegrees[to_] += 1\n",
    "            self.matrix[from_][to_] = 1\n",
    "        pass\n",
    "\n",
    "    def add_d(self,from_,to_,distance): # 가중치 그래프\n",
    "        if self.matrix[from_][to_] == 0:\n",
    "            self.indegrees[to_] += 1\n",
    "        self.matrix[from_][to_] = distance     \n",
    "\n",
    "    def get_distance(self,from_,to_):\n",
    "        distance = self.matrix[from_][to_]\n",
    "        return distance\n",
    "\n",
    "    \n",
    "    def getIndegrees(self):\n",
    "        indegrees = self.indegrees\n",
    "        return indegrees\n",
    "    \n",
    "    def getVertexes(self):\n",
    "        vertexes = self.indegrees.keys\n",
    "        return vertexes"
   ]
  },
  {
   "cell_type": "code",
   "execution_count": 34,
   "metadata": {},
   "outputs": [
    {
     "data": {
      "text/plain": [
       "{0: 0, 1: 0, 2: 1, 3: 0, 4: 0, 5: 0, 6: 0, 7: 0, 8: 0, 9: 0}"
      ]
     },
     "execution_count": 34,
     "metadata": {},
     "output_type": "execute_result"
    }
   ],
   "source": [
    "a = Mygraph_matrix(10)\n",
    "a.add(1,2)"
   ]
  },
  {
   "cell_type": "markdown",
   "metadata": {},
   "source": [
    "2. 인접리스트 구현\n",
    "\n",
    "각 vertex 별로 연결되어있는 vertex를 적어놓은 리스트를 저장해 두는 것\n",
    "\n",
    "장점 : 메모리를 더 적게 사용한다. 연결관계 변경이 쉽다. \n",
    "\n",
    "단점 : 연결관계 직관적 파악이 어렵다. "
   ]
  },
  {
   "cell_type": "code",
   "execution_count": 35,
   "metadata": {},
   "outputs": [],
   "source": [
    "class Mygraph_list:\n",
    "    def __init__(self, num_of_vertex):\n",
    "        self.list = [{} for _ in range(num_of_vertex)]\n",
    "\n",
    "    def add(self,from_, to_):\n",
    "        self.list[from_].append(to_)\n",
    "        pass\n",
    "    def add_d(self,from_,to_,distance):\n",
    "        self.list[from_][to_] = distance\n",
    "        pass\n",
    "    def get_distance(self,from_,to_):\n",
    "        distance = self.list[from_][to_]\n",
    "        return distance\n",
    "    def getIndegrees(self):\n",
    "        indegrees = {}\n",
    "        for i in range(len(self.list)):\n",
    "            indegrees[i] = len(self.list[i])\n",
    "        return indegrees"
   ]
  },
  {
   "cell_type": "markdown",
   "metadata": {},
   "source": [
    "#### * 그래프 순회 방법\n",
    "\n",
    "1. DFS(depth-first search) 깊이 우선 탐색\n",
    "\n",
    "2. BFS(breadth-first search) 너비 우선 탐색"
   ]
  },
  {
   "cell_type": "markdown",
   "metadata": {},
   "source": [
    "#### * 위상정렬"
   ]
  }
 ],
 "metadata": {
  "interpreter": {
   "hash": "78ace7d3ee7689355f50f98c314a3eb08e68ca606d3dd2e83d26d97bfc698845"
  },
  "kernelspec": {
   "display_name": "Python 3.8.8 ('base')",
   "language": "python",
   "name": "python3"
  },
  "language_info": {
   "codemirror_mode": {
    "name": "ipython",
    "version": 3
   },
   "file_extension": ".py",
   "mimetype": "text/x-python",
   "name": "python",
   "nbconvert_exporter": "python",
   "pygments_lexer": "ipython3",
   "version": "3.8.8"
  },
  "orig_nbformat": 4
 },
 "nbformat": 4,
 "nbformat_minor": 2
}
