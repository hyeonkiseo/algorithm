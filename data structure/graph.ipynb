{
 "cells": [
  {
   "cell_type": "markdown",
   "metadata": {},
   "source": [
    "### Graph\n",
    "#### * 그래프의 정의\n",
    "vertex(점)과 이를 잇는 edge(변)으로 이루어진 자료구조\n"
   ]
  },
  {
   "cell_type": "markdown",
   "metadata": {},
   "source": [
    "\n",
    "#### * 그래프의 종류\n",
    "- 그래프의 방향 구분 유무에 따라\n",
    "1. 방향그래프\n",
    "2. 무방향그래프\n",
    "\n",
    "- 가중치 유무에 따라\n",
    "1. 가중치 그래프\n",
    "2. 무가중치 그래프\n",
    "\n",
    "- 순환 유무에 따라\n",
    "1. 순환그래프 (어느 한 vertex에서 자기 자신으로 돌아올 수 있는 길이 존재하는 경우)\n",
    "2. 비순환 그래프"
   ]
  },
  {
   "cell_type": "markdown",
   "metadata": {},
   "source": [
    "#### * 그래프의 구현방법\n",
    "1. 행렬구현 \n",
    "\n",
    "$n\\times n$의 행렬을 만들고 각 vertex끼리 연결되었는지의 여부를 1과 0으로 표현\n",
    "\n",
    "장점 : 직관적으로 이해하기 쉽다.\n",
    "\n",
    "단점 : 메모리를 $ O( n^2 )$ 을 사용, 연결관계 변경이 어렵다.\n"
   ]
  },
  {
   "cell_type": "code",
   "execution_count": 32,
   "metadata": {},
   "outputs": [],
   "source": [
    "class Mygraph_matrix:\n",
    "    def __init__(self, num_of_vertex : int):\n",
    "        self.indegrees = {}\n",
    "        for i in range(num_of_vertex):\n",
    "            self.indegrees[i] = 0\n",
    "        self.matrix = []\n",
    "        for _ in range(num_of_vertex):\n",
    "            self.matrix.append([0]*num_of_vertex)\n",
    "\n",
    "    def add(self,from_, to_): # 무가중치 그래프\n",
    "        if self.matrix[from_][to_] == 0:\n",
    "            self.indegrees[to_] += 1\n",
    "            self.matrix[from_][to_] = 1\n",
    "        pass\n",
    "\n",
    "    def add_d(self,from_,to_,distance): # 가중치 그래프\n",
    "        if self.matrix[from_][to_] == 0:\n",
    "            self.indegrees[to_] += 1\n",
    "        self.matrix[from_][to_] = distance     \n",
    "\n",
    "    def get_distance(self,from_,to_):\n",
    "        distance = self.matrix[from_][to_]\n",
    "        return distance\n",
    "\n",
    "    \n",
    "    def getIndegrees(self):\n",
    "        indegrees = self.indegrees\n",
    "        return indegrees\n",
    "    \n",
    "    def getVertexes(self):\n",
    "        vertexes = self.indegrees.keys\n",
    "        return vertexes"
   ]
  },
  {
   "cell_type": "code",
   "execution_count": 34,
   "metadata": {},
   "outputs": [
    {
     "data": {
      "text/plain": [
       "{0: 0, 1: 0, 2: 1, 3: 0, 4: 0, 5: 0, 6: 0, 7: 0, 8: 0, 9: 0}"
      ]
     },
     "execution_count": 34,
     "metadata": {},
     "output_type": "execute_result"
    }
   ],
   "source": [
    "a = Mygraph_matrix(10)\n",
    "a.add(1,2)"
   ]
  },
  {
   "cell_type": "markdown",
   "metadata": {},
   "source": [
    "2. 인접리스트 구현\n",
    "\n",
    "각 vertex 별로 연결되어있는 vertex를 적어놓은 리스트를 저장해 두는 것\n",
    "\n",
    "장점 : 메모리를 더 적게 사용한다. 연결관계 변경이 쉽다. \n",
    "\n",
    "단점 : 연결관계 직관적 파악이 어렵다. "
   ]
  },
  {
   "cell_type": "code",
   "execution_count": 13,
   "metadata": {},
   "outputs": [],
   "source": [
    "class Mygraph_list:\n",
    "    def __init__(self, num_of_vertex):\n",
    "        self.list = [{} for _ in range(num_of_vertex)]\n",
    "\n",
    "    def add(self,from_, to_):\n",
    "        self.list[from_-1][to_] = 1\n",
    "        pass\n",
    "    def add_d(self,from_,to_,distance):\n",
    "        self.list[from_-1][to_] = distance\n",
    "        pass\n",
    "    def get_distance(self,from_,: None):\n",
    "        dist = 0\n",
    "        for key in self.list[from_-1].keys():\n",
    "            dist += self.list[from_-1][key]\n",
    "        return distance\n",
    "        \n",
    "    def getIndegrees(self):\n",
    "        indegrees = {}\n",
    "        for i in range(len(self.list)):\n",
    "            indegrees[i] = len(self.list[i])\n",
    "        return indegrees"
   ]
  },
  {
   "cell_type": "code",
   "execution_count": 27,
   "metadata": {},
   "outputs": [],
   "source": [
    "graph = Mygraph_list(5)\n",
    "graph.add(1,2)\n",
    "graph.add(2,3)\n",
    "graph.add(2,4)\n",
    "graph.add(3,4)\n",
    "graph.add(3,5)\n",
    "graph.add(4,5)\n",
    "\n"
   ]
  },
  {
   "cell_type": "markdown",
   "metadata": {},
   "source": [
    "#### * 그래프 순회 방법\n",
    "\n",
    "1. BFS(breadth-first search) 너비 우선 탐색\n",
    "   그래프를 맨 상위 레벨 -> 그다음 레벨 순으로 탐색하는 방법. \n",
    "   que를 이용하여 구현한다.\n",
    "\n",
    "2. DFS(depth-first search) 깊이 우선 탐색\n",
    "   그래프를 가장 깊이 내려가면서 탐색하는 방법\n",
    "   stack을 이용하여 구현한다."
   ]
  },
  {
   "cell_type": "code",
   "execution_count": 32,
   "metadata": {},
   "outputs": [],
   "source": [
    "from collections import deque\n",
    "\n",
    "class mysearch:\n",
    "    def __init__(self, graph, from_):\n",
    "        self.que = deque()\n",
    "        self.que.append(from_)\n",
    "        self.visited = set()\n",
    "        self.visited.add(from_)\n",
    "        self.graph = graph\n",
    "\n",
    "    def BFS(self):\n",
    "        visited = self.visited\n",
    "        while len(self.que) != 0:\n",
    "            curr = self.que.popleft()\n",
    "            keys = self.graph.list[curr-1].keys()\n",
    "            for key in keys:\n",
    "                if key in visited:\n",
    "                    continue\n",
    "                self.que.append(key)\n",
    "                visited.add(key)\n",
    "            print(curr)\n",
    "\n",
    "    def DFS(self):\n",
    "        visited = self.visited\n",
    "        while len(self.que) != 0 :\n",
    "            curr = self.que.pop()\n",
    "            keys = self.graph[curr-1].keys()\n",
    "            for key in keys:\n",
    "                if key in visited:\n",
    "                    continue\n",
    "                self.que.append(key)\n",
    "                visited.add(key)\n",
    "            print(curr)"
   ]
  },
  {
   "cell_type": "code",
   "execution_count": 34,
   "metadata": {},
   "outputs": [
    {
     "name": "stdout",
     "output_type": "stream",
     "text": [
      "1\n",
      "2\n",
      "3\n",
      "4\n",
      "5\n"
     ]
    }
   ],
   "source": [
    "sch = mysearch(graph, 1)\n",
    "sch.BFS()\n",
    "sch.DFS()"
   ]
  },
  {
   "cell_type": "markdown",
   "metadata": {},
   "source": [
    "#### * 위상정렬"
   ]
  }
 ],
 "metadata": {
  "kernelspec": {
   "display_name": "Python 3.8.5 ('base')",
   "language": "python",
   "name": "python3"
  },
  "language_info": {
   "codemirror_mode": {
    "name": "ipython",
    "version": 3
   },
   "file_extension": ".py",
   "mimetype": "text/x-python",
   "name": "python",
   "nbconvert_exporter": "python",
   "pygments_lexer": "ipython3",
   "version": "3.8.5"
  },
  "orig_nbformat": 4,
  "vscode": {
   "interpreter": {
    "hash": "f0190fb74f711315221f4b0fca7b4ef265268b3d2a54bfc83b74f16662ccc29d"
   }
  }
 },
 "nbformat": 4,
 "nbformat_minor": 2
}
