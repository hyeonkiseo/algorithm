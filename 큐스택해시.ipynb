{
 "cells": [
  {
   "cell_type": "code",
   "execution_count": 1,
   "id": "234bcaa7-ce9c-4f8d-a3bd-d41bff2474be",
   "metadata": {},
   "outputs": [],
   "source": [
    "import numpy as np\n",
    "import pandas as pd"
   ]
  },
  {
   "cell_type": "code",
   "execution_count": 2,
   "id": "8d204870-9f4d-491f-8c8e-f952c4268c4e",
   "metadata": {},
   "outputs": [],
   "source": [
    "class Node ():\n",
    "    def __init__(self, data, nxt):\n",
    "        self.data = data\n",
    "        self.nxt = nxt"
   ]
  },
  {
   "cell_type": "code",
   "execution_count": 5,
   "id": "64a322e6-2302-4c8e-a9d8-3309bd32a4e0",
   "metadata": {},
   "outputs": [],
   "source": [
    "class Mystack:\n",
    "    def __init__(self):\n",
    "        self.size = 0\n",
    "        self.head = Node(None,None)\n",
    "        \n",
    "    def push(self,data):\n",
    "        new = Node(data,self.head.nxt)\n",
    "        self.head.nxt = new\n",
    "        self.size +=1\n",
    "        \n",
    "        \n",
    "    def pop(self):\n",
    "        if self.head.nxt == None:\n",
    "            return \n",
    "        \n",
    "        pop = self.head.nxt\n",
    "        self.head.nxt = pop.nxt\n",
    "        pop.nxt.prev = self.head\n",
    "        self.size -= 1\n",
    "    \n",
    "        return pop.data\n",
    "    \n",
    "    def peek(self):\n",
    "        return self.head.nxt.data\n",
    "    \n",
    "    def isEmpty(self):\n",
    "        if self.head.nxt == None:\n",
    "            return True\n",
    "        else : \n",
    "            return False\n",
    "        \n",
    "    def get_size(self):\n",
    "        return self.size        "
   ]
  },
  {
   "cell_type": "code",
   "execution_count": 13,
   "id": "3676c900-2354-43cc-88d9-ee4d1770508f",
   "metadata": {},
   "outputs": [
    {
     "data": {
      "text/plain": [
       "1"
      ]
     },
     "execution_count": 13,
     "metadata": {},
     "output_type": "execute_result"
    }
   ],
   "source": [
    "a = Mystack()\n",
    "a.push(3)\n",
    "a.push(2)\n",
    "a.push(1)\n",
    "\n",
    "a.pop();a.pop();a.peek(),a.peek()\n",
    "a.get_size()"
   ]
  },
  {
   "cell_type": "code",
   "execution_count": 16,
   "id": "b6c540f4-7718-4c13-87ef-5062dc471e37",
   "metadata": {},
   "outputs": [],
   "source": [
    "class DoubleLinkNode:\n",
    "    def __init__(self, data, nxt, prev):\n",
    "        self.data = data\n",
    "        self.nxt = nxt\n",
    "        self.prev = prev    \n",
    "\n",
    "class Myqueue:\n",
    "    def __init__(self):\n",
    "        self.size = 0\n",
    "        self.head = DoubleLinkNode(None,None,None)\n",
    "        self.tail = DoubleLinkNode(None,None,None)\n",
    "        self.head.nxt = self.tail\n",
    "        self.tail.prev = self.head\n",
    "        \n",
    "    def enqueue(self,data):\n",
    "        new = DoubleLinkNode(data,self.head.nxt,self.head)\n",
    "        self.head.nxt.prev = new\n",
    "        self.head.nxt = new\n",
    "        self.size +=1\n",
    "        return True\n",
    "    \n",
    "    def dequeue(self):\n",
    "        pop = self.tail.prev\n",
    "        pop.prev.nxt = self.tail\n",
    "        self.tail.prev = pop.prev\n",
    "        self.size -=1\n",
    "        return pop.data\n",
    "    \n",
    "    def peek(self):\n",
    "        return self.tail.prev.data\n",
    "    \n",
    "    def isEmpty(self):\n",
    "        if self.head.nxt == self.tail:\n",
    "            return True\n",
    "        else:\n",
    "            return False\n",
    "        \n",
    "    def get_size(self):\n",
    "        return self.size    "
   ]
  },
  {
   "cell_type": "code",
   "execution_count": 19,
   "id": "10009830-2b39-46b0-b369-c9ed3f0fdb36",
   "metadata": {},
   "outputs": [
    {
     "data": {
      "text/plain": [
       "True"
      ]
     },
     "execution_count": 19,
     "metadata": {},
     "output_type": "execute_result"
    }
   ],
   "source": [
    "a = Myqueue()\n",
    "a.enqueue(3)\n",
    "a.enqueue(2)\n",
    "a.enqueue(1)\n",
    "a.dequeue();a.dequeue();a.dequeue()\n",
    "a.isEmpty()"
   ]
  },
  {
   "cell_type": "code",
   "execution_count": 36,
   "id": "0d63befe-1a60-4311-bb9f-9e5e42739936",
   "metadata": {},
   "outputs": [],
   "source": [
    "class Mycircularque:\n",
    "    def __init__(self, size):\n",
    "        self.array = [None] * (size+1)\n",
    "        self.front= -1\n",
    "        self.rear = -1\n",
    "        self.size = size + 1\n",
    "    \n",
    "    def enque(self, data):\n",
    "        if self.isFull():\n",
    "            print('que is already full')\n",
    "            return False\n",
    "        self.rear = self.rear+1\n",
    "        self.array[self.rear] = data\n",
    "        return True\n",
    "    \n",
    "    def deque(self):\n",
    "        if self.isEmpty():\n",
    "            print('que is already empty')\n",
    "            return False\n",
    "        self.front = (self.front + 1) % self.size\n",
    "        temp = self.array[self.front]\n",
    "        self.array[self.front] = None\n",
    "        return temp\n",
    "\n",
    "    def peek(self):\n",
    "        return self.array[(self.front + 1) % self.size]\n",
    "    \n",
    "    def get_size(self):\n",
    "        return np.abs(self.rear - self.front)\n",
    "\n",
    "    def isEmpty(self):\n",
    "        if self.front == self.rear:\n",
    "            return True\n",
    "        else:\n",
    "            return False        \n",
    "        \n",
    "    def isFull(self):\n",
    "        if (self.rear +1) % self.size == self.front:\n",
    "            return True\n",
    "        else:\n",
    "            return False        "
   ]
  },
  {
   "cell_type": "code",
   "execution_count": 37,
   "id": "4217ce8a-2e69-4844-bc32-dd04035da5fc",
   "metadata": {},
   "outputs": [
    {
     "data": {
      "text/plain": [
       "[1, 2, 3, None]"
      ]
     },
     "execution_count": 37,
     "metadata": {},
     "output_type": "execute_result"
    }
   ],
   "source": [
    "a = Mycircularque(3)\n",
    "a.enque(1)\n",
    "a.enque(2)\n",
    "a.enque(3)\n",
    "a.array"
   ]
  },
  {
   "cell_type": "code",
   "execution_count": 38,
   "id": "ade55cea-4285-480d-94f9-dc5296ac56ea",
   "metadata": {},
   "outputs": [
    {
     "data": {
      "text/plain": [
       "[None, None, 3, None]"
      ]
     },
     "execution_count": 38,
     "metadata": {},
     "output_type": "execute_result"
    }
   ],
   "source": [
    "a.deque()\n",
    "a.deque()\n",
    "a.array"
   ]
  },
  {
   "cell_type": "code",
   "execution_count": 35,
   "id": "171f492e-e573-42c8-a509-a0dd90a89c74",
   "metadata": {},
   "outputs": [
    {
     "data": {
      "text/plain": [
       "1"
      ]
     },
     "execution_count": 35,
     "metadata": {},
     "output_type": "execute_result"
    }
   ],
   "source": [
    "\n"
   ]
  }
 ],
 "metadata": {
  "kernelspec": {
   "display_name": "Python 3",
   "language": "python",
   "name": "python3"
  },
  "language_info": {
   "codemirror_mode": {
    "name": "ipython",
    "version": 3
   },
   "file_extension": ".py",
   "mimetype": "text/x-python",
   "name": "python",
   "nbconvert_exporter": "python",
   "pygments_lexer": "ipython3",
   "version": "3.8.8"
  }
 },
 "nbformat": 4,
 "nbformat_minor": 5
}
